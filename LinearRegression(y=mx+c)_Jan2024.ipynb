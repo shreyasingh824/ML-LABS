{
  "nbformat": 4,
  "nbformat_minor": 0,
  "metadata": {
    "colab": {
      "provenance": []
    },
    "kernelspec": {
      "name": "python3",
      "display_name": "Python 3"
    },
    "language_info": {
      "name": "python"
    }
  },
  "cells": [
    {
      "cell_type": "code",
      "metadata": {
        "id": "bcIY7W-2XJBh"
      },
      "source": [
        "#import necessary libraries\n",
        "import pandas as pd\n",
        "import numpy as np\n",
        "import math\n",
        "import operator\n",
        "import matplotlib.pyplot as plt\n",
        "import io\n",
        "%matplotlib inline"
      ],
      "execution_count": 2,
      "outputs": []
    },
    {
      "cell_type": "code",
      "metadata": {
        "colab": {
          "base_uri": "https://localhost:8080/",
          "height": 177
        },
        "id": "t-QQLJDidQS_",
        "outputId": "b20cb7ac-dd03-49a5-9d6d-4cf8b55d208f"
      },
      "source": [
        "from google.colab import files\n",
        "\n",
        "\n",
        "uploaded = files.upload()\n",
        "\n",
        "data = pd.read_csv(io.BytesIO(uploaded['headbrain.csv']))\n",
        "print(data.head())"
      ],
      "execution_count": 3,
      "outputs": [
        {
          "output_type": "display_data",
          "data": {
            "text/plain": [
              "<IPython.core.display.HTML object>"
            ],
            "text/html": [
              "\n",
              "     <input type=\"file\" id=\"files-879b7e3b-66cf-4c81-a74b-484791f71ae9\" name=\"files[]\" multiple disabled\n",
              "        style=\"border:none\" />\n",
              "     <output id=\"result-879b7e3b-66cf-4c81-a74b-484791f71ae9\">\n",
              "      Upload widget is only available when the cell has been executed in the\n",
              "      current browser session. Please rerun this cell to enable.\n",
              "      </output>\n",
              "      <script>// Copyright 2017 Google LLC\n",
              "//\n",
              "// Licensed under the Apache License, Version 2.0 (the \"License\");\n",
              "// you may not use this file except in compliance with the License.\n",
              "// You may obtain a copy of the License at\n",
              "//\n",
              "//      http://www.apache.org/licenses/LICENSE-2.0\n",
              "//\n",
              "// Unless required by applicable law or agreed to in writing, software\n",
              "// distributed under the License is distributed on an \"AS IS\" BASIS,\n",
              "// WITHOUT WARRANTIES OR CONDITIONS OF ANY KIND, either express or implied.\n",
              "// See the License for the specific language governing permissions and\n",
              "// limitations under the License.\n",
              "\n",
              "/**\n",
              " * @fileoverview Helpers for google.colab Python module.\n",
              " */\n",
              "(function(scope) {\n",
              "function span(text, styleAttributes = {}) {\n",
              "  const element = document.createElement('span');\n",
              "  element.textContent = text;\n",
              "  for (const key of Object.keys(styleAttributes)) {\n",
              "    element.style[key] = styleAttributes[key];\n",
              "  }\n",
              "  return element;\n",
              "}\n",
              "\n",
              "// Max number of bytes which will be uploaded at a time.\n",
              "const MAX_PAYLOAD_SIZE = 100 * 1024;\n",
              "\n",
              "function _uploadFiles(inputId, outputId) {\n",
              "  const steps = uploadFilesStep(inputId, outputId);\n",
              "  const outputElement = document.getElementById(outputId);\n",
              "  // Cache steps on the outputElement to make it available for the next call\n",
              "  // to uploadFilesContinue from Python.\n",
              "  outputElement.steps = steps;\n",
              "\n",
              "  return _uploadFilesContinue(outputId);\n",
              "}\n",
              "\n",
              "// This is roughly an async generator (not supported in the browser yet),\n",
              "// where there are multiple asynchronous steps and the Python side is going\n",
              "// to poll for completion of each step.\n",
              "// This uses a Promise to block the python side on completion of each step,\n",
              "// then passes the result of the previous step as the input to the next step.\n",
              "function _uploadFilesContinue(outputId) {\n",
              "  const outputElement = document.getElementById(outputId);\n",
              "  const steps = outputElement.steps;\n",
              "\n",
              "  const next = steps.next(outputElement.lastPromiseValue);\n",
              "  return Promise.resolve(next.value.promise).then((value) => {\n",
              "    // Cache the last promise value to make it available to the next\n",
              "    // step of the generator.\n",
              "    outputElement.lastPromiseValue = value;\n",
              "    return next.value.response;\n",
              "  });\n",
              "}\n",
              "\n",
              "/**\n",
              " * Generator function which is called between each async step of the upload\n",
              " * process.\n",
              " * @param {string} inputId Element ID of the input file picker element.\n",
              " * @param {string} outputId Element ID of the output display.\n",
              " * @return {!Iterable<!Object>} Iterable of next steps.\n",
              " */\n",
              "function* uploadFilesStep(inputId, outputId) {\n",
              "  const inputElement = document.getElementById(inputId);\n",
              "  inputElement.disabled = false;\n",
              "\n",
              "  const outputElement = document.getElementById(outputId);\n",
              "  outputElement.innerHTML = '';\n",
              "\n",
              "  const pickedPromise = new Promise((resolve) => {\n",
              "    inputElement.addEventListener('change', (e) => {\n",
              "      resolve(e.target.files);\n",
              "    });\n",
              "  });\n",
              "\n",
              "  const cancel = document.createElement('button');\n",
              "  inputElement.parentElement.appendChild(cancel);\n",
              "  cancel.textContent = 'Cancel upload';\n",
              "  const cancelPromise = new Promise((resolve) => {\n",
              "    cancel.onclick = () => {\n",
              "      resolve(null);\n",
              "    };\n",
              "  });\n",
              "\n",
              "  // Wait for the user to pick the files.\n",
              "  const files = yield {\n",
              "    promise: Promise.race([pickedPromise, cancelPromise]),\n",
              "    response: {\n",
              "      action: 'starting',\n",
              "    }\n",
              "  };\n",
              "\n",
              "  cancel.remove();\n",
              "\n",
              "  // Disable the input element since further picks are not allowed.\n",
              "  inputElement.disabled = true;\n",
              "\n",
              "  if (!files) {\n",
              "    return {\n",
              "      response: {\n",
              "        action: 'complete',\n",
              "      }\n",
              "    };\n",
              "  }\n",
              "\n",
              "  for (const file of files) {\n",
              "    const li = document.createElement('li');\n",
              "    li.append(span(file.name, {fontWeight: 'bold'}));\n",
              "    li.append(span(\n",
              "        `(${file.type || 'n/a'}) - ${file.size} bytes, ` +\n",
              "        `last modified: ${\n",
              "            file.lastModifiedDate ? file.lastModifiedDate.toLocaleDateString() :\n",
              "                                    'n/a'} - `));\n",
              "    const percent = span('0% done');\n",
              "    li.appendChild(percent);\n",
              "\n",
              "    outputElement.appendChild(li);\n",
              "\n",
              "    const fileDataPromise = new Promise((resolve) => {\n",
              "      const reader = new FileReader();\n",
              "      reader.onload = (e) => {\n",
              "        resolve(e.target.result);\n",
              "      };\n",
              "      reader.readAsArrayBuffer(file);\n",
              "    });\n",
              "    // Wait for the data to be ready.\n",
              "    let fileData = yield {\n",
              "      promise: fileDataPromise,\n",
              "      response: {\n",
              "        action: 'continue',\n",
              "      }\n",
              "    };\n",
              "\n",
              "    // Use a chunked sending to avoid message size limits. See b/62115660.\n",
              "    let position = 0;\n",
              "    do {\n",
              "      const length = Math.min(fileData.byteLength - position, MAX_PAYLOAD_SIZE);\n",
              "      const chunk = new Uint8Array(fileData, position, length);\n",
              "      position += length;\n",
              "\n",
              "      const base64 = btoa(String.fromCharCode.apply(null, chunk));\n",
              "      yield {\n",
              "        response: {\n",
              "          action: 'append',\n",
              "          file: file.name,\n",
              "          data: base64,\n",
              "        },\n",
              "      };\n",
              "\n",
              "      let percentDone = fileData.byteLength === 0 ?\n",
              "          100 :\n",
              "          Math.round((position / fileData.byteLength) * 100);\n",
              "      percent.textContent = `${percentDone}% done`;\n",
              "\n",
              "    } while (position < fileData.byteLength);\n",
              "  }\n",
              "\n",
              "  // All done.\n",
              "  yield {\n",
              "    response: {\n",
              "      action: 'complete',\n",
              "    }\n",
              "  };\n",
              "}\n",
              "\n",
              "scope.google = scope.google || {};\n",
              "scope.google.colab = scope.google.colab || {};\n",
              "scope.google.colab._files = {\n",
              "  _uploadFiles,\n",
              "  _uploadFilesContinue,\n",
              "};\n",
              "})(self);\n",
              "</script> "
            ]
          },
          "metadata": {}
        },
        {
          "output_type": "stream",
          "name": "stdout",
          "text": [
            "Saving headbrain.csv to headbrain.csv\n",
            "   Gender  Age Range  Head Size(cm^3)  Brain Weight(grams)\n",
            "0       1          1             4512                 1530\n",
            "1       1          1             3738                 1297\n",
            "2       1          1             4261                 1335\n",
            "3       1          1             3777                 1282\n",
            "4       1          1             4177                 1590\n"
          ]
        }
      ]
    },
    {
      "cell_type": "markdown",
      "metadata": {
        "id": "A1UBrOuuzcHM"
      },
      "source": [
        "**Implementation without in-built libraries**"
      ]
    },
    {
      "cell_type": "markdown",
      "metadata": {
        "id": "n7i4UhtBsmyy"
      },
      "source": [
        "Find a linear relationship between head size and brain weight.\n",
        "We also need to find the values of ‘m’ and ‘c’, so for that, we need to find the mean of X & Y values."
      ]
    },
    {
      "cell_type": "code",
      "metadata": {
        "id": "I-n7yDgpdx2k",
        "colab": {
          "base_uri": "https://localhost:8080/"
        },
        "outputId": "3a56fd12-4841-4a0d-83ad-5419d9f48ead"
      },
      "source": [
        "# collecting x & y\n",
        "X = data['Head Size(cm^3)'].values\n",
        "Y = data['Brain Weight(grams)'].values\n",
        "\n",
        "# calculate mean of x & y\n",
        "mean_x = np.mean(X)\n",
        "mean_y = np.mean(Y)\n",
        "\n",
        "print(X)\n",
        "print(Y)\n",
        "\n",
        "print(mean_x)\n",
        "print(mean_y)"
      ],
      "execution_count": 4,
      "outputs": [
        {
          "output_type": "stream",
          "name": "stdout",
          "text": [
            "[4512 3738 4261 3777 4177 3585 3785 3559 3613 3982 3443 3993 3640 4208\n",
            " 3832 3876 3497 3466 3095 4424 3878 4046 3804 3710 4747 4423 4036 4022\n",
            " 3454 4175 3787 3796 4103 4161 4158 3814 3527 3748 3334 3492 3962 3505\n",
            " 4315 3804 3863 4034 4308 3165 3641 3644 3891 3793 4270 4063 4012 3458\n",
            " 3890 4166 3935 3669 3866 3393 4442 4253 3727 3329 3415 3372 4430 4381\n",
            " 4008 3858 4121 4057 3824 3394 3558 3362 3930 3835 3830 3856 3249 3577\n",
            " 3933 3850 3309 3406 3506 3907 4160 3318 3662 3899 3700 3779 3473 3490\n",
            " 3654 3478 3495 3834 3876 3661 3618 3648 4032 3399 3916 4430 3695 3524\n",
            " 3571 3594 3383 3499 3589 3900 4114 3937 3399 4200 4488 3614 4051 3782\n",
            " 3391 3124 4053 3582 3666 3532 4046 3667 2857 3436 3791 3302 3104 3171\n",
            " 3572 3530 3175 3438 3903 3899 3401 3267 3451 3090 3413 3323 3680 3439\n",
            " 3853 3156 3279 3707 4006 3269 3071 3779 3548 3292 3497 3082 3248 3358\n",
            " 3803 3566 3145 3503 3571 3724 3615 3203 3609 3561 3979 3533 3689 3158\n",
            " 4005 3181 3479 3642 3632 3069 3394 3703 3165 3354 3000 3687 3556 2773\n",
            " 3058 3344 3493 3297 3360 3228 3277 3851 3067 3692 3402 3995 3318 2720\n",
            " 2937 3580 2939 2989 3586 3156 3246 3170 3268 3389 3381 2864 3740 3479\n",
            " 3647 3716 3284 4204 3735 3218 3685 3704 3214 3394 3233 3352 3391]\n",
            "[1530 1297 1335 1282 1590 1300 1400 1255 1355 1375 1340 1380 1355 1522\n",
            " 1208 1405 1358 1292 1340 1400 1357 1287 1275 1270 1635 1505 1490 1485\n",
            " 1310 1420 1318 1432 1364 1405 1432 1207 1375 1350 1236 1250 1350 1320\n",
            " 1525 1570 1340 1422 1506 1215 1311 1300 1224 1350 1335 1390 1400 1225\n",
            " 1310 1560 1330 1222 1415 1175 1330 1485 1470 1135 1310 1154 1510 1415\n",
            " 1468 1390 1380 1432 1240 1195 1225 1188 1252 1315 1245 1430 1279 1245\n",
            " 1309 1412 1120 1220 1280 1440 1370 1192 1230 1346 1290 1165 1240 1132\n",
            " 1242 1270 1218 1430 1588 1320 1290 1260 1425 1226 1360 1620 1310 1250\n",
            " 1295 1290 1290 1275 1250 1270 1362 1300 1173 1256 1440 1180 1306 1350\n",
            " 1125 1165 1312 1300 1270 1335 1450 1310 1027 1235 1260 1165 1080 1127\n",
            " 1270 1252 1200 1290 1334 1380 1140 1243 1340 1168 1322 1249 1321 1192\n",
            " 1373 1170 1265 1235 1302 1241 1078 1520 1460 1075 1280 1180 1250 1190\n",
            " 1374 1306 1202 1240 1316 1280 1350 1180 1210 1127 1324 1210 1290 1100\n",
            " 1280 1175 1160 1205 1163 1022 1243 1350 1237 1204 1090 1355 1250 1076\n",
            " 1120 1220 1240 1220 1095 1235 1105 1405 1150 1305 1220 1296 1175  955\n",
            " 1070 1320 1060 1130 1250 1225 1180 1178 1142 1130 1185 1012 1280 1103\n",
            " 1408 1300 1246 1380 1350 1060 1350 1220 1110 1215 1104 1170 1120]\n",
            "3633.9915611814345\n",
            "1282.873417721519\n"
          ]
        }
      ]
    },
    {
      "cell_type": "markdown",
      "metadata": {
        "id": "G6cUnaZUrmIv"
      },
      "source": [
        "Calculate m & c using the formulas:\\\n",
        "![form2.PNG](data:image/png;base64,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)\n",
        "![form1.PNG](data:image/png;base64,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)"
      ]
    },
    {
      "cell_type": "code",
      "metadata": {
        "id": "7JDFnZDVjEuz",
        "colab": {
          "base_uri": "https://localhost:8080/"
        },
        "outputId": "1cfddf44-16f3-42a9-97f3-5fd1122cb9b9"
      },
      "source": [
        "# total no.of input values\n",
        "m = len(X)\n",
        "\n",
        "# using the formula to calculate m & c\n",
        "numer = 0\n",
        "denom = 0\n",
        "for i in range(m):\n",
        "  numer += (X[i] - mean_x) * (Y[i] - mean_y)\n",
        "  #numer +=(Y[i] - mean_y) **2 * (X[i] - mean_x)\n",
        "  #denom += (X[i] - mean_x)*(Y[i] - mean_y) *(X[i] - mean_x)\n",
        "  denom += (X[i] - mean_x) ** 2\n",
        "m = numer / denom\n",
        "c = mean_y - (m * mean_x)\n",
        "\n",
        "print (f'm = {m} \\nc = {c}')"
      ],
      "execution_count": 5,
      "outputs": [
        {
          "output_type": "stream",
          "name": "stdout",
          "text": [
            "m = 0.26342933948939945 \n",
            "c = 325.57342104944223\n"
          ]
        }
      ]
    },
    {
      "cell_type": "code",
      "metadata": {
        "colab": {
          "base_uri": "https://localhost:8080/",
          "height": 449
        },
        "id": "QOsxTq9oe5T6",
        "outputId": "a6a4daa2-4c36-4b78-9932-ce5361d85416"
      },
      "source": [
        "\n",
        "# plotting values and regression line\n",
        "max_x = np.max(X) + 100\n",
        "min_x = np.min(Y) - 100\n",
        "\n",
        "# calculating line values x and y\n",
        "# Create a linear space with 100 values between min_x and max_x.\n",
        "x = np.linspace (min_x, max_x, 100)\n",
        "y = c + m * x\n",
        "\n",
        "plt.plot(x, y, color='#58b970', label='Regression Line')\n",
        "plt.scatter(X, Y, c='#ef5423', label='data points')\n",
        "\n",
        "plt.xlabel('Head Size in cm')\n",
        "plt.ylabel('Brain Weight in grams')\n",
        "plt.legend()\n",
        "plt.show()"
      ],
      "execution_count": 6,
      "outputs": [
        {
          "output_type": "display_data",
          "data": {
            "text/plain": [
              "<Figure size 640x480 with 1 Axes>"
            ],
            "image/png": "[encoded data removed]"
          },
          "metadata": {}
        }
      ]
    },
    {
      "cell_type": "markdown",
      "source": [
        "![image.png](data:image/png;base64,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)"
      ],
      "metadata": {
        "id": "a62SIcRQkafz"
      }
    },
    {
      "cell_type": "code",
      "source": [
        "rmse = 0\n",
        "for i in range(len(X)):\n",
        "    y_pred=  c + m* X[i]\n",
        "    rmse += (Y[i] - y_pred) ** 2\n",
        "\n",
        "rmse = np.sqrt(rmse/len(X))\n",
        "print(rmse)"
      ],
      "metadata": {
        "colab": {
          "base_uri": "https://localhost:8080/"
        },
        "id": "z7tp2byRkcdI",
        "outputId": "36e56ac7-7ad5-4f7e-d4ce-03b6cdad2248"
      },
      "execution_count": 9,
      "outputs": [
        {
          "output_type": "stream",
          "name": "stdout",
          "text": [
            "72.1206213783709\n"
          ]
        }
      ]
    },
    {
      "cell_type": "markdown",
      "source": [
        "R² score: SST is the total sum of squares and SSR is the total sum of squares of residuals. R² Score usually ranges from 0 to 1. It will also become negative if the model is completely wrong. Now we will find the R² Score."
      ],
      "metadata": {
        "id": "V0M_S11XlGxG"
      }
    },
    {
      "cell_type": "markdown",
      "source": [
        "![image.png](data:image/png;base64,iVBORw0KGgoAAAANSUhEUgAAAq0AAAD/CAYAAADbhe9+AAAgAElEQVR4Ae29T2scVxb375cwb2GgdwLBCLwQGBJmYUHADR4syGJEFhFeCAIRDgwmYEQgtBdB3sTMwk0gCMMgHAbkB4MWQlkYhR+GDr+A8hCQjUEBQy889MLQC8F5OFV1q25V39td1VVd/e/TILpUXfff59y69a1T5966JnwgAAEIQAACEIAABCAw4wSuzXj9qB4EIAABCEAAAhCAAAQE0UongAAEIAABCEAAAhCYeQKI1pk3ERWEAAQgAAEIQAACEEC00gcgAAEIQAACEIAABGaeAKJ15k1EBSEAAQhAAAIQgAAEEK30AQhAAAIQgAAEIACBmSeAaJ15E1FBCEAAAhCAAAQgAAFEK30AAhCAAAQgAAEIQGDmCSBaZ95EVBACEIAABCAAAQhAANFKH4AABCAAAQhAAAIQmHkCiNaZNxEVhAAEIAABCEAAAhBAtNIHIAABCEAAAhCAAARmngCideZNRAUhAAEIQAACEIAABBCt9AEIQAACEIAABCAAgZkngGideRNRQQhAAAIQgAAEIAABRCt9AAIQgAAEIAABCEBg5gkgWmfeRFQQAhCAAAQgAAEIQADRSh+AAAQgAAEIQAACEJh5AojWmTcRFYQABCAAAQhAAAIQQLTSByAAAQhAAAIQgAAEZp4AonXmTUQFIQABCEAAAhCAAAQQrfQBCEAAAhCAAAQgAIGZJ4BonXkTUUEIQAACEIAABCAAAUQrfQACEIAABCAAAQhAYOYJIFpn3kRUEAIQgAAEIAABCEAA0UofgAAEIAABCEAAAhCYeQKI1pk3ERWEAAQgAAEIQAACEEC00gcgAAEIQAACEIAABGaeAKJ15k1EBSEAAQhAAALlCZzcuybXrll/907KZ0oOEKiRAKK1RtgUBQEIQAACEKifwBtpf2KJVVu4XrsnSNf6LUKJ4xFAtI7HjVQQgAAEIACBuSDwpv2JXMuI03BfJGTxuM6FHamkCKKVXgABCEAAAhBYWALqZXV7UxPh6v59YZHQsLklgGidW9NRcQhAAAIQgMAoAifSbr9xH/SmLZ8EoQKIVjcg9s4aAUTrrFmE+kAAAhCAgJvAyb1oItEn4tNh7oTsdRIwovWTtnhkrTMZOyEwLQKI1mmRp1wIQAACEMhPwAgsM4kIoZWfne/I6CaAkFYfIPbPGgFE66xZhPpAAAIQgECGQDL7XQVWHIuJ2spwKvZvsAQW4r8YNI6eKgFE61TxUzgEIACBagm8efNGTk5Ogr///e9/1WY+pdxCkZoJCcBLWM4agec6w7RcjqSGwMQJIFonjpgCIAABCNRHQIXqX/7yl/Qi8uaR+oS+VSRP6jPcG3gi965dk08IcC2IP/Rc46guiI3Dp04A0Tp1E1ABCEAAAtUS6HQ6CyNaqyVDbkpAPdcIffrCPBJAtM6j1agzBCAAgREEvvvuO69w/emnn+IQAhNKkPf73r178te//jWVt+7jMx8EglALXKzzYSxqOUAA0TqAhB0QgAAEFoPA3//+95S4NO+d1/1lP7YoLita2+22VFGnsm2ah/Qa/vG3v/1N1Jte+KNxwAjWwthIMDsEEK2zYwtqAgEIQKBSAsPiW1V0lv18/vnngSguI1r/8Y9/BJ7bRZk0VpZpnvQqWDVuWcV+7o8KVt9KATopy/db7gI4EAKTJ4BonTxjSoAABCAwNQLD4lvH8tZZLdGVCtR7O65oXXbBajzfvm8L9cCmsWsu4RqttOArJ7Dh5ObSDdSdHRAYlwCidVxypIMABCAwJwRU2LgEi3rryno49bH+OKJV02idVPjyGY+ACdEYdvMRr2k7dOUIXuM6ngVIVTcBRGvdxCkPAhCAwBQIqFfTJVzLxpKqIM7l7bParBPBAu8eE7gsKuNtanyrsix78zFe6aSCQL0EEK318qY0CEAAAlMhoKImO+vfiNiiorNMA7QeZh1ZhFYZkmFa40XXmxI+EFh0AojWRbcw7YMABCAQETBxkEas2t/DHjFXCdA80i7r4a2yTvOclwp/Y0dCLebZktQ9DwFEax5KHAMBCEBgQQgYz5wROuZbvbB1eD6Nl7WK1QsWxCSlm2FCBHQ1Bz4QWGQCiNZFti5tgwAEIOAg4ItvnfQjZtvTm9uzq8sxRZOI3EuMhq8kVfHt/t0BYBZ2VdguM6lNbwj4QGCRCSBaF9m6tA0CM0bAPZP5E7FfHX9yL/2/qwnl8gnfV288jMO/F3NWtXpUpxHfasSVMh/1cdrYtZaoJf6865COKqzG3yfRLn2bmenHuW8GamwzRUGgKgKjR46qSiIfCEBgiQlYQjHrDrNFh3rUXMIkJldVPiKSWrsyK5QT710gBrJ1juszvxu219MIHvM9KeGjcaxahgrm/B/bFu6biJN710LRNrTv5C+xniOra5ctWuucVFcPJ0qBQEIA0ZqwYAsCEJgIgeTi/IntUk2VNUSMxsdVlY/JMMnPJ5RjMXTtmvjrbvKbv++641uNd1djMIt8Eu9k9ubCymUOX1FaZbvMDcc4a+ZaFNmEwEwTQLTOtHmo3DITsAVTcEGaV29f7NEcIjjU0NFx3mZWlU/cqXIIZdsLPFdevLiRIzfqjG81wqqoaDV9Q9P7+oeeL77fRkKY1gFxn/bXPW+7DFsmY03LmJRbBwFEax2UKQMChQhYHsCBt9i4H48Wyr7mgxPxPUK0iopI/zFV5RM33xKkfrFjCdtr88c+buuQjTrjW42wKixaR9lKf/cbcUjrp/xThe0am+2UEVA8BIoQQLQWocWxEKiBQPjIMC2QkseI1+TanF2cE7Hp9yaFWE/k3hBvZlX5GBMmTNOsze9xneIbh2HHpVPN2391xbeOLawscTcYpqE3ef6bnaK2MHUc97tQeRW2y9S38A1BoQpzMASmSwDROl3+lA6BDAG9ALvFUT6RlcluFv61HoFeG+qtPJF7wwR5VfkETCxv9hChbD+W9sW9zgLiKupQR3zr+MIq8XhnRaueF9l9ZXhoTGiZv2JlV9cuw5bwgGIW4Oj5IoBonS97UduFJ3Aibd9kpdgr4xa1s4smuTCHF9Zx619VPiISsxw2wcoStkNiKWeXe/Ga+eJbq5rcM+5ELBHLFvaNjdpx2E1HcQQ1p6iuXUa0VmWrmkFQHARyEUC05sLEQRCYAQJGaM3jRdrUveyj9qryib22/sfKdjhClZ68GehJ3ir44lurWgJrvCWvtLoucaf78t0AxU8pbMHrpVDnD+XaZWrKkleGBN+LTgDRuugWpn2LQyASWjN33c1LuCrBWUE+iSB1iJ5Y0IZrfy6LYDVmzMa3ViVYNX/1AhqPoCkv73dss+imTf/Pey7MrmjVRTPSa8wWaZdhZ4vWKu1l8ucbArNCANE6K5agHhAYQSC4uM2jl9VuVwWCM8iuVD7ZMININMRe4PD/vILIbt4ibH/33XexsKx6oXpbEBcVVylxd3Kv0jjWadqtinaZmwFe4zpNS1J2HQQQrXVQpgwIlCUQiDT/o+yy2deaPuPJHHuC07j5WOlsYRp745YkftVlc3sy1qRiI1VYqbdVxXGRj22fsftMkQJrOraKdumKAcqUSVg1GY1ipkYA0To19BQMgbwEwrg3W2DlTTmzx1nCMXhcPG7jxsgn9mxlVzKwvbfj1mdmgY+umO0F1QlZk/oYT67Gtxb5JOLOEdIxIiNj81kM9SjTLm22xiGbkIs3b96MIMHPEJhvAojW+bYftV8CAnpRm8WL7VD0b9pyz7cKQpQwuVjr43iPEKkqn7iy1sSXgVAL6zdffeJ8FmvDFqw6w3+SHxVZxtuq27k/wQ1KkacN2TCQImlz16r8gYXblS7SeMcneaORLpH/IDA9AojW6bGnZAiMJBAIu3n0+uWKObRFhUdQVJWPIW15U103AraQnkfspplFvm0RqWKykJAsUpB17E8//RR4B/OHIOgNhaePWPk6N43NB25SnEfXvLNEu6KamtCAOuxWMxyKg8AAAUTrABJ2QGBGCKgHZk6VU17vsHlse83z+taq8jEWTUSpTwBZQnomRY5pSTXfKnTM2qn6iLno5KgytdD4Sy0zzyNt7SfjngrG5q6blDL1ryJtmXZp+SbUQlcP4AOBZSCAaF0GK9PGmghYgiczE93EnCXfnsfhpqYqWH2iST1Hvt9M+ql+R4/Zc6iMRLS6eFSVj4ER5ae2GcIvqZNP2Jr85v/bfpnANISPlq+ieZiXUO0xvuA0Nnf1r+nar1y7JLjB0PGk6hUepkuF0iEwnACidTgffoVAcQJBjJpZRikrfMxFNPrdJexS6U0+6W9XsuIVnVQKI95HCQWLhbNBVeUTtdM8Jr42QgRZ/McXS5NiW12+tmCdpvBJCVdjo6A/hPYvZYNUftWxK5xTqh7l22VikKdpt8IMSACBCgggWiuASBYQSBOwxJjHo5d489ICyjzKTDyyabEa7h8lBtO1qf0/c4FWj6ZTjIY1StrqaU9V+UQAkvJGPWo2YlnZe+pWO9RqCzSTd7Q/Vb1M0jgeW62PriZgnxdat1KCNXhb7ydh7OyUn55X2S71Smvs8Ticq+1F5AaB+gkgWutnTokLT8ASPT7RZgsyj7CdV0y2OPSJ7OSYrCc6aXVyjBHugwIyOcafT5Cj5T3NI4bSImOw3KSW87dlC1b1clb50bxVUI39ie00wp65CjA3jzNgv0rblavxHASBhSSAaF1Is9KoqRKwBKlPs4pYwnbBvHkn99KCIy0AjQAd5e3U11uWzycRtUm5oZAO//d68mKRYaebAfFTsmObx8rKYFQs6ThFaZ5VC+Fx6hGkMeeh/yQcO2sSQgAC0yGAaJ0Od0pdYAKJUBomchZXtC6waee6aTpL3xbswyY/jdNQs4yVeltn4WPOQ9WswTbidRbMQh0gUIoAorUUPhJDIEvAPJIcPkNdbE/egoUHZInw//QJTHppKxNnqaI4zxJWdRAxolXr5PWo11ERyoAABCojgGitDCUZQSCY+SGfRMtd+S+UlrBd4vfc01/qI2Cvxaoe0So/mp95w5UKRD4QgAAEJkWAEWZSZMl3OQnEHtR0PKYNw47x9AtbOwXbEBifgL20lYpKfYNSVX+an/2n+fKBAAQgMCkCiNZJkSXfpSSQCFJHPGssaEdMAhqTnC0extlmCZ0xwQ9JNo4d7DRlbaKvSbXzm/R2/teyDoHGTxCAAAQ8BBCtHjDshkBxAvbkqrQHyhYLk5oPYpcxznZZgVSc1+KnGMcOdpoyNrGXtrLznOS2vlaUDwQgAIFJEUC0Toos+S4fAcuTagtTe0KIvX/5ANHiugio2J2kOPXlXUZk18WGciAAgfklgGidX9tR8xkj4A0NMOtFjnhD1Iw1h+rMKQF7LVafuJzU/llZOWBOTUe1IQCBEQQQrSMA8TME8hGwVgQYWMLK+m3BXiTgZWN5nSclkOrOd14mzQXrry4g/7rtvYzlzUsf9447/LDwBBCtC29iGlgLAcub6hr4ly5EYAFFk8uutfStcQpZQP7LKCLrbvNc9fFxzgvSzD0BROvcm5AGzAKBRJT6lrqyJmkNeGKraUHZCxzxiNXYwc4Fm9g02IYABCBQjgCitRw/UkNA3ygg7U+i1QKGCNIk5tUnbMvBRCCV4zeJ1NhkElTJEwIQWFYCiNZltTztro7AiNCAuCDrkS2P4WIqbEAAAhCAAARyEUC05sLEQRDwE0hCA67J8CWtrBCBZZmQ5cfGLxCAAAQgAIFCBBCthXBxMAQyBCzvqT4KHuVBTUIENJzA8dasTPb8CwEIQAACEIBASADRSk+AwBgEbO+qK27RK14zIjdMi3gdwwQkgQAEIACBJSOAaF0yg9NcCEAAAhCAAAQgMI8EEK3zaDXqDAEIQAACEChIIB2edE2uDQ/CL5g7h0Ng8gQQrZNnTAkQgIBFwB1akV4G7ORe+n8rebxZJp+Bi7e+YrfIHxf72A5szAMBa1m+gX5OeNI8WJA6hgQQrfQECECgJgLW6glZ0WctGxaIxyHr3YqUzSdJPxB7bMUcD/ymK/K2PwnEbbb6NQGkGAiMRSDst2lxavpycL7RocfiSqL6CSBa62dOiRBYQgKJp8clBkMgiZj0P7asIJ9AmKYv4MYgyYXc5+nVOvp+M7nwDYFZIqDnzKj+7v59llpBXSCgBBCt9AMIQGDyBGIP5gjBFx3ndfxUkM+b9j1pv3E1ORHE/uXITuTeUC+wK1/2QWCaBE6k7e7w+uhAPgnCBRCt07QQZecngGjNz4ojIQCBMQkkMaQjRGvw6N9/TPl83kj7XlvcmtVcwIdNUBkiAMZkQzIITI2AEa3ciE3NBBRcjACitRgvjoYABMYgkIjNHG8NG3IBrSofZxNiL+6oOjpTsxMC80dg1JON+WsRNV5wAojWBTcwzYPATBCwBKH/0bvW9ETueWMD9Od71iz/YY80R+TjgJII4mH5OhKyCwJzSiDo80NuEue0WVR7gQkgWhfYuDQNArNDwJpkVSqGrqp8smSsfOf8Iv7mzRs5OTkJ/v73v/9lG8r/EAgJBKEB/lAcMEFgFgkgWmfRKtQJAotIwMTPxetEjunRrCofm7HlwfWvbmAnmN1tFap/+ctfLI90wTVoY/vkT6cimc88EQgnHQ57qDFPraGuy0MA0bo8tqalEJg+gaoEZ1X5RERGL3U1fXRFatDpdBCtRYAt2bHa3+f95mzJTEZzIwKIVroCBCBQL4GqBGdV+Uiepa7qRVRFad99951XuP70009xCIEJJcj7fe/ePfnrX/+aylv38ZkPAsENGi7W+TAWtRwggGgdQMIOCEBg4gSsx/Gj34A1pDZV5GOL3wW7mP/9739PiUvzqlrdX/Zji2JEa1maNaXX82XB+nhN5ChmRgggWmfEEFQDAktHICs4x72Yls3HSj9uFWbVdsPiW1V0lv18/vnngSguK1rb7bZUIaTLtmce0qtN//a3v4mGgBT6aD/3TTLUGzffb4UK4WAITJYAonWyfMkdAstL4E1b7vnexBNRSWJJddKPZ2JWVfl4LJEsdbWYM6mHxbcWFj4ZhrpSgXpvy4jWf/zjH0G4ASsdZOAO+VftppPtVOzn+lg3Zsbbnv1etBu2XFw4aO4IIFrnzmRUGAJzQuDkXo7JHtZSU9c8orGqfJzYrPIX2NOk4iYrUvR/FT5lxaJ6SMcVrcsuWF02sfc5u2y009yMjBKu6RtD34oQnhvGYRXgNwhMgQCidQrQKRICy0Ag7wzlUZ7OqvJxMrc8UIs+m1oFoi2IzHbZx/IqmkYJJxd7FbpaB/XW8hmPgIkrLusxH690UkGgfgKI1vqZUyIEloBANCM/xzPHRLS6vD1V5eNGnnihPF5ed7K53Kse1eysfyNcxxGdZSDo6gVa9rge2jJlL1pajW9VlmU95ovGhfYsJgFE62LalVZBYMoEzGN3lxC1q2YtN+UUuFXlY5dptq2yFzg0wLRWv80jZSNW7e+6vHUqrszLDxBatnXG29YbDrWjetL5QGDRCSBaF93CtA8C0yCQcxmpxNPpEbdV5eNiYIUGLNMyQEbk2IJVt9ULW4eINI+0y4YluEy6jPvUZsaWhFosYw9YrjYjWpfL3rQWArUQSMSomfgxKEqTY/yP5pNjyuUz2GjjwY3yXRJPq+Hgi2+tw1tnvKxVLLll2rPs3yZEQJcg4wOBRSaAaF1k69I2CEyJwMm9tBBN4laN+Ay/nREBVp2rysdk6auH8VTp96JPyFIW6p2bRnyrHZ6QOxzB8ra7+0sS5uH+3Vh/xr4rbJeZ1KY3BHwgsMgEEK2LbF3aBgEIQMBDwBaQtmjX7dyC0pO3b7cRV1rGqM+gl/2ae3F8S/x5F88fVViNv0+iXfoKXmPDSdmuRkQUBQEvgdEjhzcpP0AAAhCAwDwTqDu+VeNYVVyplzf/J/Gk+l5AEXvQ5yrMo7p22aK17pUg8tuRIyFQngCitTxDcoAABCAwtwTqjG81IQkag1nkk3gn02EnqTx0Yt1cxQeIVNku42llGbFUr+CfBSOAaF0wg9IcCEAAAkUI1BnfaoRVUdEq1koPPl2q3lbfb0V41Hpshe0ybJmMVasFKaxmAojWmoFTHAQgAIFZI1BXfKsRVoVFqxW36hSm+rvzh1kjnalPhe0am22mSvwLgVkmgGidZetQNwhAAAI1EagjvnVsYWWJu8HVHTQ2dEjYQEF+po7jfhcqrsJ2mfoWviEoVGEOhsB0CSBap8uf0iEAAQjMDAFffGtVcZLjC6tkXd2saNW40Oy+MkC1rWX+ipVdXbsMW8IDilmAo+eLAKJ1vuxFbSEAAQhMjIAvvrWqZZTGnYglYs20t8MA1FOZY8WAeMKTnXZiFItkXK5ddklGtFZ1g2HnzTYEZoUAonVWLEE9IAABCMwAgWx8a1WCVZs23pJXmtIl7nTf4JvWXAjnS7Tmb5dpK0teGRJ8LzoBROuiW5j2QQACEChAQF+varx2Va/5qV5Ak3eBKgWHZtdincvVAhyNrqJdtmit8ibDUV12QWCqBBCtU8VP4RCAAARmh4A9GWsSj5ltL25RcZUSdyf3Ko1jnaYFqmiXuRngNa7TtCRl10EA0VoHZcqAAAQgMOMEbEGpE7Im9VFhpd5W9egW+cSP+K95Xuc6JDMjDKucsDWkuEI/lWmXKUhXDFCmTMIyRPheVAKI1kW1LO2CAAQgkJOALViLvWI1ZwHWYSb8QONbi3wScZcvjlUkmZkfhiRUtyxWkXqPOrZ4u9I56uQ5E3Lx5s2b9I/8B4EFI4BoXTCD0hwIQAACRQio6DHeT/3W/yf5scsrVFbw9qgxhKdZCzXHKgOTbLc373HbFWVoQjom6R331p0fIFAzAURrzcApDgIQgMCsEFDRaJahUm9d0TjTcdvx008/Bd7B/HGzOqN+DMGq6w60PwnKmsXQgHBVhPHaZdib0IBCNwAmMd8QmDMCiNY5MxjVhQAEIFAVAftlAjoDvc6Pxl+qUM7zSFtjUsdbYtUslZU3pKBOAiLjtyuspwm1qNt29VKiNAgkBBCtCQu2IAABCCwNAVuwVr20VV6IWgf19A7zEqqwG9tLakIDxlO8eZsx1nGl2iUSeMVV9E/LdmM1mkQQKEkA0VoSIMkhAAEIzBsBEwepoqfqGedFvX4p4ZoSmeFEqrEFqxUaMHXNWnG7zMQ5BOu8nXnUtywBRGtZgqSHAAQgMEcEbMGqgrHKj+Y9zlqhmk5XE1Dvowpp81dGsCZv0Zp+aECV7VKvtDIuenNQpZ3JCwLTIoBonRZ5yoUABCBQMwHjoVNROOqx/DhV0zxLCeFgJr2K1nKTk4K6p7yb47SmwjRVtqvCapEVBOaNAKJ13ixGfSEAAQiMQUAnPBkPpn4PiyMdI3sxKwLMyiNrs2qAhgYE21OPERiHKmkgAAGbAKLVpsE2BCAAgQUkoAJ1kktbmUfWKobzrAZQB2IjWrVO5cIM6qgtZUAAAnkIIFrzUOIYCEAAAnNMwBas6hGt8qP5mZcTqEDkAwEIQGBSBBhhJkWWfCEAAQjMAAGNMVUxaf50Mfqq/kye5lvz5QMBCEBgUgQQrZMiS74QgAAEpkxA3zhlBGUd3/nfcDVlMBQPAQjMJQFE61yajUpDAAIQGE7AXtqqDsGqZegbmvhAAAIQmBQBROukyJIvBCAAgSkR0DU86xKqdjmsHTolg1MsBJaEAKJ1SQxNMyEAgeUgYK/FagvKOrZnZeWA5bA0rYTA8hFAtC6fzWkxBCCwwASqXn81Dyr1sBIakIcUx0AAAmUIIFrL0CMtBCAAAQhAAAIQgEAtBBCttWCmEAhAAAIQgAAEIACBMgQQrWXokRYCEIAABCAAAQhAoBYCiNZaMFMIBCAAAQhAAAIQgEAZAojWMvRICwEIQAACEIAABCBQCwFEay2YKQQCEIAABCAAAQhAoAwBRGsZeqSFAAQgAAEIQAACEKiFAKK1FswUAgEIQAACEIAABCBQhgCitQw90kIAAhCAAAQgAAEI1EIA0VoLZgqBAAQgAAEIQAACEChDANFahh5pIQABCEAAAhCAAARqIYBorQUzhUAAAhCAAAQgAAEIlCGAaC1Dj7QQgAAEIAABCEAAArUQQLTWgplCIAABCEAAAhCAAATKEEC0lqFHWghAAAIQgAAEIACBWgggWmvBTCEQgAAEIAABCEAAAmUIIFrL0CMtBCAAAQhAAAIQgEAtBBCttWCmEAhAAAIQgAAEIACBMgQQrWXokRYCEIAABCAAAQhAoBYCiNZaMFMIBCAAAQhAAAIQgEAZAojWMvRICwEIQAACEIAABCBQCwFEay2YKQQCEIAABCAAAQhAoAwBRGsZeqSFAAQgAAEIQAACEKiFAKK1FswUAgEIQAACEIAABCBQhgCitQw90kIAAhCAAAQgAAEI1EIA0VoLZgqBAAQgAAEIQAACEChDANFahh5pIQABCEAAAhCAAARqIYBorQUzhUAAAhCAAAQgAAEIlCGAaC1Dj7QQgAAEIAABCEAAArUQQLTWgplCIAABCEAAAhCAAATKEEC0lqFHWghAAAIQgAAEIACBWgggWmvBTCEQgAAEIAABCEAAAmUIIFrL0CMtBCAAAQhAAAIQgEAtBBCttWCmEAhAAAIQgAAEIACBMgQQrWXokRYCEIAABCAAAQhAoBYCiNZaMFMIBCAAAQhAAAIQgEAZAojWMvRICwEIQAACEIAABCBQCwFEay2YKQQCEIAABCAAAQhAoAwBRGsZeqSFAAQgAAEIQAACEKiFAKK1FswUAgEIQAACEIAABCBQhgCitQw90kIAAhCAAAQgAAEI1EIA0VoLZgqBAAQgAAEIQAACEChDANFahh5pIQABCEAAAhCAAARqIYBorQUzhUAAAhCAAAQgAAEIlCGAaC1Dj7QQgAAEIAABCEAAArUQQLTWgplCIAABCEAAAhCAAATKEEC0lqFHWghAAAIQgAAEIACBWgggWmvBTL3Cyv0AACAASURBVCEQgAAEIAABCEAAAmUIIFrL0CMtBCAAAQhAAAIQgEAtBBCttWCmEAhAAAIQgAAEIACBMgQQrWXokRYCEIAABCAAAQhAoBYCiNZaMFMIBCAAAQhAAAIQgEAZAkspWruvDuXw5FL6ZcgNS3vVl+7rMzl8tCeHfww7cHF+63cv5OzZvuz+2FmcRo3Zku4vbdn9dF1WGg1Zu7Mnx3+OmRHJ6iNw1ZfL347k4Nv5PmcZ2ybQZT5cyvnzA9n77li6E8h+rrLsnkn7q01ZX21I4/qm7L24nKvqz3dl+3LxvCU7N9ek0ViR9bttOf8w3y0ap/aTF61XPbl4dSQHj/Zl/9G+HDzvyEXXLRd7rzty9DQ8bv/pkXRed6V/FTWr35Pe+5x/PXf+QU6/P5aPG43A6Pu/joNsVJpzad/STqVlNKT1atTx8//7+Q9NWYva23i43KK1+99tWbt7KJfvzuTxZ2vSWG3K41+H9Mf5N//8t6B7LHvBhaDAOVvVuCYi/d6wca1A32Fsq7wvdo/vhwJNx7fPD5dbtL47ku3r23L4titn32/JWmNFmt93Juf8qdya85xhXzqPNmTjYUe6fxzK/Vsr0ri+I0fv5rlN49V9oqK1/9tj2QzuyLZkLxKte3oh187+w0VS4w/n8vjTFWk01mTrQSRaH+hJ0ZCVW23RI7vPtsO7i1tNad5uSvNW6MlSYbhyI9p3uxkOMMMGl35HHldpcBXTrrudV636ROtVX3rvC1zcEvLJVuk8OtLSgX2ZRWv/TPZWP5bHvyVY2ZojAsE5uyKjbmarHNdEunL8tWc8M2OcerSeXYwWB1WPbb4xYd7GNr0xeN9LHCCFu2RXDj9fdtHal7NvVuTj788L0yNBBQTeHshmY0eO3leQ15xnMTnR+v5YdlWwru7JqS3q/jyUrZS46cnxlypYV2TvZ1t4XcrhP9Xz0RL13YWidVeOexHxd4eyHXn3tp+ZhzZ9OX1Q7+DSebTiFmp1Duy/7stKxGns/lg6D0SrvGrJSsPqo2Mbg4RTIRCcs9tyOMx7UfG4FrfTHs/+a8YzEXl7KNs6jjYasvmjdaMfJ5zghm9MmLexrXsk240Rdh2KEdEqVx1prTZk94W5AA8Fxo8VEwj0z0ePhVsGkYmJVn1MGjwiz3o9r87SHrlgQNFBeXBQOfs2I1pto9mDfCxaRS5+bMZCt+J+48guEtYu72KNA/vlf7ZKt7l8HojW8MYqvMlydBZ2zTqBHKK16nEtRmKNZ9mQovN/fxyOpav7wQ18nGbCG94xYc7GNvlFn3oNXl/y40O0StQ/s30zP0OOLEOg87BeZ1yZuk467eREa/A4vyGNj1pyZntao0c18SP1eLD+WFq/2J5WEfmgsV7hvt4fZ3L2qzV5Kk7XkMTTKtL/syNnLy9k2P1g7/WptB8cBmEHNmCdxLD/1VYQfrDz4EBOX/ty6cvlr2dy9rwlm42GfHx3L4jX1Zjd47dRjvbAftWVjk5S+qwpW1/ty9EfmXaaSljHNT/blf3n59IzMb3mGOs7bOuRtO4o5+04BGP/2AqOz+b5rCNdK89cebzryOGTPdnRsIydPWk761VAtPYu5PRplJ+281lHLiMkYX1O5fDJvrR/TjxO9v5U+5SH5vekJUfKXmMNTw5kb0fr2kpY2xzs/RZP76Zd3509OTi5SNvl/YWcvYzs0NiU3SgUZv9pZ2g/zNPf+m9P5eDBjjRv78je01O50C551ZOzF2dR3j25eKl98UD2Hx3Jedy17P0H0sl25aBNraBPal9rPT1L9QvDIqjjD2FZ/T+OpLXTlJ2HR3Jhn9NZPi8Tu5l8Aht5bB4f49jQ8ttB+5uy86AtR79nGzLC/q7jtZyrnpw/D89J7dMHWuc8orXicS1usjWeZYVBKB6TG/g4jWPDN7bp/rAfhWPQ4atL7+PykWPCrIxt+gQuHrO3ZPfRoXRsL3lwXp7KwZcq+j3nZa7zoIBotccZc86aR7r9S+m8PJPTZ23Zf3KaxMfa+x8dizV6R+NZW1rPw72JHXek9TwJGUk4pPc7ukh6V/bczY5tEo4jRw83Q2//V1H43iPHmGLlnNRHz1vPtbTbkcNHu7J1O227y+fH0bXZHsMKjG3RNaAVXMu3ZPfbAzmz+4Wpp17XHrXlTIeUDxdy9HAnfc3Q47J8XGPbMJubsjzfCac0A3N4cC6eHMjuR0Ou8ebgJfmemGiV38yEp4asfLrvF4BX5/JYDaKP+lc3ZX/gpPFYwhrkbdHqOTrY3Xv1WLZvaCjC4AXg8tm2rNzck9O34aSIy59b0vTenfekoxPGvtkOJnUNFa3/OZb7N9dk47Nd2d3ZCCcsre7JWSwuohr/qcetSPPbI7l415Pe2zPZ/3RFVnRSjyUy7fb1XqlQ2ZNtX4f+80h2rlt5vruQo282pHHzfjyjfVQe/Vct2Wh8LPu/RFxehkJ982lqaBWRnKL1Q0daN1dk+8dz6erEuncXcvBFEgvb//NUDh7tBjcDdnxs/88zOXyS3d+Ts+8240lgreMz2b+1HrDeMzNcV+/L8W+2DaK459VdOTYXExtqZrv/al+aq2uy86Qjl1rftx15fHdFVj59nMzcfHsc3LTs6s2D7+KYyTdPf7t8cV82Gg3Z2GnLUXCxa8nWnT15rDaMn2D05PxZW/bu6oXZ9ib15EJnPA/sF5E/w0fOO88ug8mN3d8Og0Fx5ZuzJG5SH0ubc+Wfh3L5e1s2b6wFKyI0Gh/L49/DBoXxnQkfzev+zUYwYSDu4iNsnkET/duXzsMNaXy0L2fBBMxLOQsunJtyYG4MJW3/vRcdefzpumzc3pFdY/8UkyhrE0O/uimtZ6fBDUf7y03ZuatPh2yGjppNalyzxrO0aO3JkZ4fenP80D/pZdjYFpzDq9ty8Fs3tPfrA9kZMkl01JgQivuGtKY5tl1dytEXa7JyqyVHr7VdXbl4vicbjQ25b2a0jzov85wHQRfIKVqvLuXw7opsfHMajhXvL+X022ZyrvYv5fTpvoTjhPVEpn8pZ8/aA/t7L/dl83p0bfz2WM4eNWX95pbsPtiVzeDcXJH7L87l+F8bsqb7v9qRZrQ/z2P8XGObXMqx3oR/lV+05hnbTFz4yqctOTzRm25t/47sP9q2Qt3GGNsiGzS+OAxt8O5cDvWmJXXNVTuZOTFbcvj2XNp31mUtCsP5+N/hQ/hcY9somzuGkGBXnv6rmnnUNd6X/wLvn5xolZ4c/yuZRa+D7tqdXWk77lR6x/dj4REIyuubsvvE7fmJbWEN8nlFq+ikqXdnsn9b71qs+JAoXmfrP5YQ65/K3qgLWFQHZ/mRN2LtiwM5t5xDvec7wQWo9UvcEpGrCzm405CVL4/Tnrn3R8HFZfgA5BlQ9WbgpuORQlRW486BXMRi2JOHRDcUqy3pxMdqDHJDGrcPMp7qfKLVPEI/i/OLQjrsEIsoZCRljwDXYBk68zq8wQhvjuw76v7J/YC13jSdWc4/sz8dQ23Zw2xG8YsDYuHDqeytNmTlwWki8lS26yOcPLHFefpbVHa2DLk6l7b231i0hpUNYqsbLbG56i8hb1uIRfbL9O3wEfSenBqlqZNwzA1FY1M2vwlvnnSFjzP10mnmEYeNaJA32MIb1kTY5rJ5nDjaiGbCr9j9oncsu42GNK3YzqH2f9UKbiq37RhRETn/90Zwc3HwOl3oxQ8aWmSzSv8e/jehcc0az/ZOotUE3l3I6aNNWdGJq18fpr3b2ar5xjaJzu1vz6wUF3Jwe9TKJr4xQSKPdEOmNrbFNhy01cWPKq42xbat+7zMeR4E1IawsKiGMe1bcmgtcdf/eS9zrnbl6G5DGnojaKd1jR9q07en0tLzXR069rXzw6ncN46eX6zBzezPjE2ZokQKjm3xjcqo1XDyjG3m2pS6BoVPP47/NTiG5h/bRHovdoMxP3VNjsYSe7zv603O0/BavHlnL7RZ70I6LztyqU+Rco5t+Ww+QD8ag/L1X52syUTAhOEERWvYCTtPwlUAQu9meNe49tng+mK9X9uyZe4qowlWjetb0v7NXEWTSgdb1iCf6qCZwwb/dXQAE2f7eTslMAfTZvbkEK1pr4mIvD6QZiMd0hB2/EZmIpqWNSjSMjVQWeLu0MGkoEw5UeJQRKxYy3F58pC+XLw4SB6xR+ndF4E8dRUJH3V+LHvH1kCbbZSXq6cM3/HRpL+B/uE7PlOPQU7JAZ2H6rFPDzpuLkmaeCtHfwvLToRfnNZjb1/ZYT7peurd+4F9oXOK27DEMF/3ighh3s2UQAhSZfjmsnnSwHCrfyHHTzNhCL7zIVNenJVrf3RRbWRvEIcwiPMzG1c9qXxci+oa3NzfbEozXoJLxYoVFmXq4Px2ncdR3P1He3LsekTqzEd3uvKKDrbDA+z0dY1txoaZG7egKhFH+2bHd27kPw+GsLDbH8TONmT7h2FhXf683PX0HR/ZdYCB73i7ouZm1r4GJL+7xrb8ojWaszLsWhpdm1zOGBcD1z6trWtsk/cdOciGOrnGAc0g6seuFRHyjm1hvPQomydsg62C/XfouZjJehn+naxoNQTfn8vRw+1kvTtdpuruURLTY44L4sxayWPJ4E5y270WmTXID4gSk5/z23VS96XzfTN69Lkmmxp3+pvlHnXmI2KC053l+wZ2xwkUniDryXJfUUxk68uoTra3aaAurvYYcejxpkR1S+rtziNVlMYJvdSY321p3hi8G84nsJWZhiyENy8rN7Zl7+lZHM8al+dgFP5WULT68vHtjysQboQTAdOCzxwS2izN1ze4mjTJ9+j+FuZleT7jxG5b+cp2DuwmL7OgvsaM3hwU4XqYL9/kt6bsfmfi3MLvcFk764Ypj81NnVzfGpuoMeGfN2Vdx4Ts+eCzp2t/tM/21poih7IyB9nfVY5rUb1UtMY3ur0zaenTEvW0Pskzb9jdN7rPd6InWbogucbv+uNZk+a58wp+n/LYpuEt6RVoklrH45Al5ob14SDlyPNgCAu7aLPkmPZRfVqoMeYDIUj+vNz19B1fdL9dUZGiY5sReHHfTGdn/Td6bAvPM8fNrme8cXPxiFa7Jn+ey1EQR78RXNuT6110kK8fx/XIMbblsrlVKd0s2H8RrWl+9YhWU+ZVV041Hi/wpLo7rTm0e6LxSaG4cV1gjGDUvAY6o8nE+e072UW6LzWuJglpWPviyBtPGmTtuiiaMn0nhCNN+PhjSw5+jx4LZl+iYE96MfnH3+72hHlaF8D4+OQOM+HmziNIcqULSW/LhoZ2RPHG7kHEIyjtcs12L3MTs9qU/VeWR93BKEzqKcN3fNH9pn7Bd/QYL+NNNYeUE61hLv7+Zsq24t5MwR4PmNsmnoFdbw6f7cnmzS1pRZPgfILNl68OpMFjzsaenGb7q/nfMqmMsnncPmtDX9Bwd0M2v2xHMfEV2D9Yxsk9ZvgYWDVyb1YxrkV9NSVaY2+SjoN5llLzn8e934+kFcfx6frX+9IZY1wJAEx5bJPIhgM3L0Hloj6SR7TmPg/8XAc6hI6XGnsfPzVck53/2oEA/rzc55rv+KL77Zqaczf/DXl+0RqW4x/bRMJrk7tsFwPXPi3Fd772fj+UvTsbsvXwUDp/9v3OJV8/Ljq2jbS5zV6kaP9FtKb5TUy0Xh6r1yUzE1LLDmJFQzEa3LVFwfLxrPu4ftGaqy7Pih5jDfKJ+IoTD9nwnexWkvfncvivUFwPTjiyjvOJIj3Ed0I40sQCyI5ztYoZvuluj1maJxU7G2UUxFmp2I9j/dx5iAlq/zw9Gcw9iHgExbDKq4dDJxtE6/nGk9McjMJsPGX4ji+6P1NXczNhx6iZQ8Kl1dIL0bu5mBRDvh39LcxrW44GoijctvKVPTiwmwlO6VU9Bo8L6+vLV38Nf0vH8A1pZfiTz+bZhNEkmW07zryK8ICoT6w8Gnxzm4+BXbWJjWtRvbKiVeK3XDXEdS7bdct1cdNJP0GcbENSE+/SGY0XHuA43yYxtolZJjEVpxs1wFxfrCd57j5c5Dxwn3MDyDI7etGkxCDGNp486M/LXU/f8UX3pytXdGzzXs/S2Q7+5xjbwj6RHjtNQhcD1z493nW+monDqZWIHP0yKM93jR53bNOJU06bm9ZF3wX7b67zOlPEIv87MdEadjSHd8AMKsaDFXWcwfiWRLQ6Rak1yDt/91otOtntiUTdY7n/WWZikVnVIPso0s7XdzLoMb4TwpXGTDpxBc9f9aQ78IjJroRn8AreoNFwvsHk/PtwCZhkFrYnD1eMWnxCZ72AHkFpV1XTPmmKTjSxP+HkNOvOOzqpB4RF7zicfJC1iYupFlB0v10pvb96uRc8Vtp5nq6vSDSjOzUj1Yi4LJdMpvpvjv5mJhTcP7HdlUFiZwyz8V5kRe75k8zkInP+ZRi6LgBamu+Cob+ZOjoXvdd+G2HLZXPN0PqENwVWnwh+8/SxEXZOe+SiyYW329ZExLBgHwOrWhGPCYxrURsGRKuxl64ekJ3wZlcs2HaMbdKR9u09OU114aj/Wt7Igaw8Hv3guGmPbXIZTFwNJtNaEzqDukWrO9jOBmcfNlxznQee8TEDrfvivmxZkwTt+iSP1SMvZ3bN3Sud4KfOnOz44Su76P50ZYuObd7rWTrbXGObuRFLvRUzysdlq9xjmxjNkGHoGx98/bjA2JbP5llIxfovojXNb8KitSntP6wC9XHMD+FLB/QdusHlOOo42Q7c+70dvvHqZsv9GOvtQRjX1GjI1sDyS1aZA5vRyW4PDkGnzni1gtmDK8PfAGLElRn4dF1ZM4j6TginENSTLXwrWLDkVTcUKv2ueny3pGU/One0J3hMG8/w70svuECF7ypurG6nZrOa5Y7SM77NQGpWCYjyMHeEGlSvwlm9NN+b2OQo3tK01+cFy9RXB6WsGA1m/N58LOdxXmbVArNMz6V0nrVk+8vtsE8Y3iZv36BUdL/JL/5WLivSyPTB8G5+sG+4Btw4K3sjT38zM2xv3g/Xn9X0ev483XW+qtgISLPcTlfXIv5yW3buZkSrdGRfPds6MUcfnQWPSO/L5nXtf1HITmyH4aLVrHqhr18OlgSLHjf3dbm2z3bifpfP5jYgEfOkwExq0SXPHpvH2+bmztRzhJ3TojUU28GM/Ednyfn67lRa+npnczOdrk78X2jjCYxr9niW8i6bNwMOrhgRVyrecIxtwXmZ8WpFK4ikx4A4k2jDMybor1Mf20T6v+7LRmNFtp9Zj97Nk6HUWDL4OLrX0/G1yHngE4hpZsFNj+Xh1V/1qdZKZnm9cKWOZNm/y1eH0rq7K9v6qlj7uhRk7yu76P50XVUIFRnbvDbPZptnbNOVhfQtmKub8vjX5G6qe9KKwirSojP/2GZsrRN9w7jtwPN5J1yqLwgz1DHDjBu+fqxtMqvsjBjb8to8i6lI/0W0pulNTLR2fzFroq7I+q1msGD/hsb5rK7L9vfWclbd5GK0ciM8Lpw5q5MGHqeWKgqrHnlbonhX9UyYv+RuNt3I+L9f29as3IZoee1f9bZK195cD9fA+3Zf9h/syMaNddl+cp5a0ijOJ97oyekDDSMI27h+Y0cO3/4px19H67Fq3VbXpfkkfBSpHqeAQVDnNdm43U7ecHN1KccPkjVHgzZd35LHmVnecdHWRu/nMP434HdjXXT9zUD2BrOct2X9+rpsP9iXlq5deb0p9x3vMXfn0Zdze/WH1aa0fu5K/9fH0tQln25syOb3Hfn/Uu1qyNrNiKtVR7N5+VzXGFwPXlKw/6glu5+uy/odFVDmiPDb1Ce0rVnyx1zAlXfIzse06P506dZ/up6e2kUnVny7L3u61m7WLpl+Fdj86+PBiYYm27z9Tc+Nz8IYa2Ud2O7FmdPTGgyyn6rois4HU8doRnPjuq5fGcYa6Pqvar/w2DXZeXohfTNZ6vq6NL88kq56g2+ZtQx1YslG3I9NM4LvD+fSNmIyKnvl1n05tF6gkdfmA/lGbdd66nqcp10zyWNF1m/qBa8feO5d51Ta/kl/Ccvoy8Uzw2BNNm6uSbCiyYm+OSlqq8d+1Y9rRmgae5jvxMucTKQKf3M+Wcr0wXhsk0s50vP+hi7yvi/734bn3+aD4+Hx+josDowr/7/8n1kZ27R+v7Zl+8ZaMLksbNeae2mw1wdhCJL24Zvr0nwYviwjz3nwf/VcMesVaz+80YzPo1R/1foE64CH60S3HoVjxfqN7cEVcN6fyl4wwS60pzlfzEskYttlbBqPq0X3Zytq/s8ztgWeeut6Flzr7ot38Ze8Y9uHCzn8OppofH1DNq6vydaTczl1LRuoAjLn2Ca63nlw8xmy1WXZLj50gzV99eZ6/dauHL3ryvHX0Xrdrmux4ZNjbMttc5On9Z2n/6on1+5/3nHYynfRNycmWmNwH3rS1bUdX3aCRfP75i4nPiDaiNaF1DeGdHSx6KGTBLKJK/o/eANXOBnKW09HUbpWZO99z/uGGUcS/y5dmy+ayFKkDsEatJoudNKm81e2efI0ZWfzMFzs/Xqss7B00c7/rPoMzcNRH2VdiIuzAmPsNHWJ3tA2Rg6DSQzXEX0n3b98HpYw+35gZ8tQytp1Lpn22L8FdrHSDtbYvyduiyd9XptnSgjbk7Z5wMNTTCb58H/jOkWZRf/n6l91j2vGXiP6irfBVvpCp61JVwVvk1fRNph0njqYPjK0XcbWdn9XWCZve39wrKcwL+Dkh7g+w8YKUx+70lqX8YtNKlB0yzAYVt+iecbjQfrcHcjGHBe1e9jTqtxjm2GbaY+mz3VuZytp6pjJzz4sl83tBNZ2nHYatrfqMS+bkxet80KCekJgLggMF61z0QQqCQEIQMBBYJhodRzOriUkgGhdQqPT5HkmgGidZ+tRdwhAwE8A0epnwy8hAUQrPQEC80Tgw7kc/FNfA3kgFzxOmifLUVcIQGAYgX5PTr/RWNQ9ObXDNYal4belI4BoXTqT0+B5JaCTi5q3039mctW8tol6QwACEAgmHGXGNjOBGToQsAkgWm0abEMAAhCAAAQgAAEIzCQBROtMmoVKQQACEIAABCAAAQjYBBCtNg22IQABCEAAAhCAAARmkgCidSbNQqUgAAEIQAACEIAABGwCiFabBtsQgAAEIAABCEAAAjNJANE6k2ahUhCAAAQgAAEIQAACNgFEq02DbQhAAAIQgAAEIACBmSSAaJ1Js1ApCEAAAhCAAAQgAAGbAKLVpsE2BCAAAQhAAAIQgMBMEkC0zqRZqBQEIAABCEAAAhCAgE0A0WrTYBsCEIAABCAAAQhAYCYJIFpn0ixUCgIQgAAEIAABCEDAJrA4orV3IafPDqXTtZvn3u53L+TsWVv2/n0qPfch1e296svlb0dy8GBfjnPUrbqCyQkCEIAABCAAAQgsDoEFEa09Of6yIY1GQxp3j2SYNjz/oSnrq9Gxnx8OPba0mbvHcv/GSlivxrYcviudIxlAAAIQgAAEIACBpSSwIKJVpPt8R9YaK9L8viP9kabsyuHnowXuyGxyHtB9ti0NRGtOWhwGAQhAAAIQgAAEBgksjGgdbNqwPZFofdgZdlBlvyFaK0NJRhCAAAQgAAEILCkBRGsNhke01gCZIiAAAQhAAAIQWGgCkxWtOjnqSUuO3orIVVfOnuzK1me70v4lHXXafXUo+19tSfP2luw+OpJzx+yo5Jim7Dw4kNPXmYP6l9J51pLHJ5n9ar53Z3LwYMfK/zIMD4g9rT25eHkmZ88PZF/Lj+ML7P0H0slmre172pLdz5rS/GxXWk/PpHs12F98orX3+jSqV1O2vtqXw1eX0nekH8yRPRCAAAQgAAEIQGC5CExItPbk7LtNWdOJUY2GtH7pyvG/NmTtejQB6svjcNb+1WWwf+VWS45ed6X3/lLOHm3Kyuq2HP6ZGOLy2bas3NyT07c96b3vyeXPLWnGMaKXcvRVUtb2s7QgvnxxXzYaDdnYacvRyzM5fdaSrTvbsn27IQ1LtJ7ragJ3P87Envbk4vmBY7+I/Hko26sN2Xl2GdSp+9uh7H7UkJVvzgZial2itf+qJRur23Lwm7a7J93XB7KjrF4l7WYLAhCAAAQgAAEIQCAkMCHRKtLvGXHZkOadbWn90g+8recvz+Q80pUXP25KY3VXjt/b5ujJ0RcNacTCtiOt1YZs/ecyOah/KnuxaBXpq5D9704gkHdfWO7Q98eyu9qQlQenaSH54VTuq6CORWuYdeeRzvRvyVnG2zkoOs1qBekVAc7/raJ3T05jT22Y72D6KKb227OkTXIhB7cRrRYQNiEAAQhAAAIQgEBMYGKiNSjh3aFsqzj84mhwPdSrUIw2soJSRDoP1SPbkmCa1NWZtDSPz9vOsIG4Ja9aoVfX8lSGYvFjefx7fFS00QnzzIpWu1wryaDoFOm9OpCDbJiDZ5WAwfSXcvjPhjQ+2pNjlsGySLMJAQhAAAIQgAAE3ARqEa3ZR/ZBVSJBu/7Znuw/2k/+vt2VZrCOaiRapS+d75uyEoQarMnmV/ty9JvlTTXtcojWUPwOej5FyotWU6zELw/YkeZN9dSmva963KBoNUt0qThfkfW7e3LwknjWmCkbEIAABCAAAQhAIENgeqL11/1AiG79eB7EdGpcZ/ov/Yy9+7Itu3fWooX6G7L2xZFc2o/xB0RrV47uWh7bVMMrEK1XPTl/tiebN7ek9awjl323ONViXaJV9/d+P5LW3fVIkDdk5da+dD6kKso/EIAABCAAAQhAAAIiMj3RakIHUnGdOWzy/lwO/7URiNfNp1ac64BoNWEG23KUnpulAQglwwP60nm4IY2PWnJmiUyfOPXtj1vbjyagNdwTueLj2IAABCAAAQhAAAJLSmB6olXO5fFHDWms7smpJfyMHXrdKARAX4X62YFcmB/0+ypKa8ekRqJ17+fEQ9t7sRuI2/snyb4we4hW9gAAA1ZJREFUG49oDSZiDYrc8yfN9GP/YCLY4EQunzgd3N+R9u09OU1FOUQT0KxXy/b/OJL2kyO5cPCxcbANAQhAAAIQgAAEFp3AFEWrSP/nveDRuFnyKlijtN+V82f3Zeth9DrWwCObEZIfTmVvdUVSKwVEojUVP6vi9mZDGtd35FDXitWPPtb/cUfWNG7WFr36uD4SuRvfnMplsAzVqbS/3JaduxnRKh3Z1/Q6kepPXRVBQwXuy+Z1jWltysFrLScqzxkeoKJ5RfZ/TY6Rqws5uNOQjX+fhzvNRDX1vmbqaaViEwIQgAAEIAABCCwFgYmJ1s6TpmyYdVl1stGt+3I88Jhe5PLFnmzGx2kM6ppsfW8t0t/ryOO767J+c0t2v92X/Qc7snFjXbafnEfLWHXl+OumrAeTt8L0G18fS1xU90wefxbGwq7c2JD16025/+IsfLlAUK+mtI14VOH4qQpPzUfF7pY81hUCfglXJmhc35D7L8Kcdf3XcMJYWObO0wvpvzuSHW3L9XVpfnkkXfUS30piVhur69IM6hauLbt+Q1+UsC/73+7K5o112XxwbMXpXkhbBbeuMfsk5Wdeio5JIyEAAQhAAAIQgIBNYGKi1S5k5PZVP5mElX2SbxJ/SCZqjfPWKF03NpjoFeUf/N9zF6brvvbeW79p/VyP6PtRnvZvQVustKb+rm+TXstzJSmSlyt/9kEAAhCAAAQgAIEFITAbonVBYNIMCEAAAhCAAAQgAIHJEEC0ToYruUIAAhCAAAQgAAEIVEgA0VohTLKCAAQgAAEIQAACEJgMAUTrZLiSKwQgAAEIQAACEIBAhQQQrRXCJCsIQAACEIAABCAAgckQQLROhiu5QgACEIAABCAAAQhUSADRWiFMsoIABCAAAQhAAAIQmAwBROtkuJIrBCAAAQhAAAIQgECFBBCtFcIkKwhAAAIQgAAEIACByRBAtE6GK7lCAAIQgAAEIAABCFRIANFaIUyyggAEIAABCEAAAhCYDAFE62S4kisEIAABCEAAAhCAQIUEEK0VwiQrCEAAAhCAAAQgAIHJEEC0ToYruUIAAhCAAAQgAAEIVEgA0VohTLKCAAQgAAEIQAACEJgMAUTrZLiSKwQgAAEIQAACEIBAhQT+HxtuJGHrL3xpAAAAAElFTkSuQmCC)"
      ],
      "metadata": {
        "id": "v-ME0xa1lIce"
      }
    },
    {
      "cell_type": "code",
      "source": [
        "sumofsquares = 0\n",
        "sumofresiduals = 0\n",
        "for i in range(len(X)) :\n",
        "    y_pred = c + m * X[i]\n",
        "    sumofsquares += (Y[i] - mean_y) ** 2\n",
        "    sumofresiduals += (Y[i] - y_pred) **2\n",
        "\n",
        "score  = 1 - (sumofresiduals/sumofsquares)\n",
        "print(score)"
      ],
      "metadata": {
        "colab": {
          "base_uri": "https://localhost:8080/"
        },
        "id": "3o7oRYRllWTc",
        "outputId": "dd6060ba-23ad-47da-ee80-269618b79fc8"
      },
      "execution_count": 10,
      "outputs": [
        {
          "output_type": "stream",
          "name": "stdout",
          "text": [
            "0.6393117199570003\n"
          ]
        }
      ]
    },
    {
      "cell_type": "markdown",
      "metadata": {
        "id": "MipAMbwhzVss"
      },
      "source": [
        "### **Implementation using sklearn**\n",
        "\n",
        "\n",
        "\n"
      ]
    },
    {
      "cell_type": "code",
      "metadata": {
        "colab": {
          "base_uri": "https://localhost:8080/"
        },
        "id": "1QNJk9d7iCod",
        "outputId": "08b4d304-4f7c-4791-e69a-f24fd37471a2"
      },
      "source": [
        "# Linear regression implementation using sklearn\n",
        "\n",
        "from sklearn.linear_model import LinearRegression\n",
        "from sklearn.metrics import mean_squared_error\n",
        "\n",
        "print(X.shape)\n",
        "# convert unspecified number of rows and we have provided column as 1 but rows as unknown.\n",
        "X = X.reshape(-1, 1)\n",
        "print(X.shape)\n",
        "\n",
        "reg = LinearRegression()\n",
        "reg = reg.fit(X,Y)\n",
        "\n",
        "Y_pred = reg.predict(X)\n",
        "r2_square = reg.score(X, Y)\n",
        "\n",
        "print (r2_square)"
      ],
      "execution_count": null,
      "outputs": [
        {
          "output_type": "stream",
          "name": "stdout",
          "text": [
            "(237,)\n",
            "(237, 1)\n",
            "0.639311719957\n"
          ]
        }
      ]
    }
  ]
}