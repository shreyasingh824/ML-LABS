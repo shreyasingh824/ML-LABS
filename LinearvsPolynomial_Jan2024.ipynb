{
  "nbformat": 4,
  "nbformat_minor": 0,
  "metadata": {
    "colab": {
      "provenance": []
    },
    "kernelspec": {
      "name": "python3",
      "display_name": "Python 3"
    },
    "language_info": {
      "name": "python"
    }
  },
  "cells": [
    {
      "cell_type": "code",
      "execution_count": 1,
      "metadata": {
        "id": "zFNmwXJsby7O"
      },
      "outputs": [],
      "source": [
        "# importing libraries\n",
        "import numpy as nm\n",
        "import matplotlib.pyplot as mtp\n",
        "import pandas as pd"
      ]
    },
    {
      "cell_type": "code",
      "source": [
        "#importing datasets\n",
        "data_set= pd.read_csv('/content/sample_data/Position_Salaries.csv')"
      ],
      "metadata": {
        "id": "c2XEn5Y9b1H7"
      },
      "execution_count": 3,
      "outputs": []
    },
    {
      "cell_type": "code",
      "source": [
        "#Extracting Independent and dependent Variable\n",
        "x= data_set.iloc[:, 1:2].values\n",
        "y= data_set.iloc[:, 2].values"
      ],
      "metadata": {
        "id": "BfVIRy0Gb9eU"
      },
      "execution_count": 4,
      "outputs": []
    },
    {
      "cell_type": "code",
      "source": [
        "#Fitting the Linear Regression to the dataset\n",
        "from sklearn.linear_model import LinearRegression\n",
        "lin_regs= LinearRegression()\n",
        "lin_regs.fit(x,y)"
      ],
      "metadata": {
        "colab": {
          "base_uri": "https://localhost:8080/",
          "height": 75
        },
        "id": "vNML2TAYcArG",
        "outputId": "ca180631-025f-4162-b22f-cafe91b276ea"
      },
      "execution_count": 5,
      "outputs": [
        {
          "output_type": "execute_result",
          "data": {
            "text/plain": [
              "LinearRegression()"
            ],
            "text/html": [
              "<style>#sk-container-id-1 {color: black;background-color: white;}#sk-container-id-1 pre{padding: 0;}#sk-container-id-1 div.sk-toggleable {background-color: white;}#sk-container-id-1 label.sk-toggleable__label {cursor: pointer;display: block;width: 100%;margin-bottom: 0;padding: 0.3em;box-sizing: border-box;text-align: center;}#sk-container-id-1 label.sk-toggleable__label-arrow:before {content: \"▸\";float: left;margin-right: 0.25em;color: #696969;}#sk-container-id-1 label.sk-toggleable__label-arrow:hover:before {color: black;}#sk-container-id-1 div.sk-estimator:hover label.sk-toggleable__label-arrow:before {color: black;}#sk-container-id-1 div.sk-toggleable__content {max-height: 0;max-width: 0;overflow: hidden;text-align: left;background-color: #f0f8ff;}#sk-container-id-1 div.sk-toggleable__content pre {margin: 0.2em;color: black;border-radius: 0.25em;background-color: #f0f8ff;}#sk-container-id-1 input.sk-toggleable__control:checked~div.sk-toggleable__content {max-height: 200px;max-width: 100%;overflow: auto;}#sk-container-id-1 input.sk-toggleable__control:checked~label.sk-toggleable__label-arrow:before {content: \"▾\";}#sk-container-id-1 div.sk-estimator input.sk-toggleable__control:checked~label.sk-toggleable__label {background-color: #d4ebff;}#sk-container-id-1 div.sk-label input.sk-toggleable__control:checked~label.sk-toggleable__label {background-color: #d4ebff;}#sk-container-id-1 input.sk-hidden--visually {border: 0;clip: rect(1px 1px 1px 1px);clip: rect(1px, 1px, 1px, 1px);height: 1px;margin: -1px;overflow: hidden;padding: 0;position: absolute;width: 1px;}#sk-container-id-1 div.sk-estimator {font-family: monospace;background-color: #f0f8ff;border: 1px dotted black;border-radius: 0.25em;box-sizing: border-box;margin-bottom: 0.5em;}#sk-container-id-1 div.sk-estimator:hover {background-color: #d4ebff;}#sk-container-id-1 div.sk-parallel-item::after {content: \"\";width: 100%;border-bottom: 1px solid gray;flex-grow: 1;}#sk-container-id-1 div.sk-label:hover label.sk-toggleable__label {background-color: #d4ebff;}#sk-container-id-1 div.sk-serial::before {content: \"\";position: absolute;border-left: 1px solid gray;box-sizing: border-box;top: 0;bottom: 0;left: 50%;z-index: 0;}#sk-container-id-1 div.sk-serial {display: flex;flex-direction: column;align-items: center;background-color: white;padding-right: 0.2em;padding-left: 0.2em;position: relative;}#sk-container-id-1 div.sk-item {position: relative;z-index: 1;}#sk-container-id-1 div.sk-parallel {display: flex;align-items: stretch;justify-content: center;background-color: white;position: relative;}#sk-container-id-1 div.sk-item::before, #sk-container-id-1 div.sk-parallel-item::before {content: \"\";position: absolute;border-left: 1px solid gray;box-sizing: border-box;top: 0;bottom: 0;left: 50%;z-index: -1;}#sk-container-id-1 div.sk-parallel-item {display: flex;flex-direction: column;z-index: 1;position: relative;background-color: white;}#sk-container-id-1 div.sk-parallel-item:first-child::after {align-self: flex-end;width: 50%;}#sk-container-id-1 div.sk-parallel-item:last-child::after {align-self: flex-start;width: 50%;}#sk-container-id-1 div.sk-parallel-item:only-child::after {width: 0;}#sk-container-id-1 div.sk-dashed-wrapped {border: 1px dashed gray;margin: 0 0.4em 0.5em 0.4em;box-sizing: border-box;padding-bottom: 0.4em;background-color: white;}#sk-container-id-1 div.sk-label label {font-family: monospace;font-weight: bold;display: inline-block;line-height: 1.2em;}#sk-container-id-1 div.sk-label-container {text-align: center;}#sk-container-id-1 div.sk-container {/* jupyter's `normalize.less` sets `[hidden] { display: none; }` but bootstrap.min.css set `[hidden] { display: none !important; }` so we also need the `!important` here to be able to override the default hidden behavior on the sphinx rendered scikit-learn.org. See: https://github.com/scikit-learn/scikit-learn/issues/21755 */display: inline-block !important;position: relative;}#sk-container-id-1 div.sk-text-repr-fallback {display: none;}</style><div id=\"sk-container-id-1\" class=\"sk-top-container\"><div class=\"sk-text-repr-fallback\"><pre>LinearRegression()</pre><b>In a Jupyter environment, please rerun this cell to show the HTML representation or trust the notebook. <br />On GitHub, the HTML representation is unable to render, please try loading this page with nbviewer.org.</b></div><div class=\"sk-container\" hidden><div class=\"sk-item\"><div class=\"sk-estimator sk-toggleable\"><input class=\"sk-toggleable__control sk-hidden--visually\" id=\"sk-estimator-id-1\" type=\"checkbox\" checked><label for=\"sk-estimator-id-1\" class=\"sk-toggleable__label sk-toggleable__label-arrow\">LinearRegression</label><div class=\"sk-toggleable__content\"><pre>LinearRegression()</pre></div></div></div></div></div>"
            ]
          },
          "metadata": {},
          "execution_count": 5
        }
      ]
    },
    {
      "cell_type": "code",
      "source": [
        " #Fitting the Polynomial regression to the dataset\n",
        "from sklearn.preprocessing import PolynomialFeatures\n",
        "poly_regs= PolynomialFeatures(degree= 4)\n",
        "x_poly= poly_regs.fit_transform(x)\n",
        "lin_reg_2 =LinearRegression()\n",
        "lin_reg_2.fit(x_poly, y)"
      ],
      "metadata": {
        "colab": {
          "base_uri": "https://localhost:8080/",
          "height": 75
        },
        "id": "tLidoxb1cOKP",
        "outputId": "097d4119-b2cb-4b5f-a053-89645f0e5593"
      },
      "execution_count": 8,
      "outputs": [
        {
          "output_type": "execute_result",
          "data": {
            "text/plain": [
              "LinearRegression()"
            ],
            "text/html": [
              "<style>#sk-container-id-3 {color: black;background-color: white;}#sk-container-id-3 pre{padding: 0;}#sk-container-id-3 div.sk-toggleable {background-color: white;}#sk-container-id-3 label.sk-toggleable__label {cursor: pointer;display: block;width: 100%;margin-bottom: 0;padding: 0.3em;box-sizing: border-box;text-align: center;}#sk-container-id-3 label.sk-toggleable__label-arrow:before {content: \"▸\";float: left;margin-right: 0.25em;color: #696969;}#sk-container-id-3 label.sk-toggleable__label-arrow:hover:before {color: black;}#sk-container-id-3 div.sk-estimator:hover label.sk-toggleable__label-arrow:before {color: black;}#sk-container-id-3 div.sk-toggleable__content {max-height: 0;max-width: 0;overflow: hidden;text-align: left;background-color: #f0f8ff;}#sk-container-id-3 div.sk-toggleable__content pre {margin: 0.2em;color: black;border-radius: 0.25em;background-color: #f0f8ff;}#sk-container-id-3 input.sk-toggleable__control:checked~div.sk-toggleable__content {max-height: 200px;max-width: 100%;overflow: auto;}#sk-container-id-3 input.sk-toggleable__control:checked~label.sk-toggleable__label-arrow:before {content: \"▾\";}#sk-container-id-3 div.sk-estimator input.sk-toggleable__control:checked~label.sk-toggleable__label {background-color: #d4ebff;}#sk-container-id-3 div.sk-label input.sk-toggleable__control:checked~label.sk-toggleable__label {background-color: #d4ebff;}#sk-container-id-3 input.sk-hidden--visually {border: 0;clip: rect(1px 1px 1px 1px);clip: rect(1px, 1px, 1px, 1px);height: 1px;margin: -1px;overflow: hidden;padding: 0;position: absolute;width: 1px;}#sk-container-id-3 div.sk-estimator {font-family: monospace;background-color: #f0f8ff;border: 1px dotted black;border-radius: 0.25em;box-sizing: border-box;margin-bottom: 0.5em;}#sk-container-id-3 div.sk-estimator:hover {background-color: #d4ebff;}#sk-container-id-3 div.sk-parallel-item::after {content: \"\";width: 100%;border-bottom: 1px solid gray;flex-grow: 1;}#sk-container-id-3 div.sk-label:hover label.sk-toggleable__label {background-color: #d4ebff;}#sk-container-id-3 div.sk-serial::before {content: \"\";position: absolute;border-left: 1px solid gray;box-sizing: border-box;top: 0;bottom: 0;left: 50%;z-index: 0;}#sk-container-id-3 div.sk-serial {display: flex;flex-direction: column;align-items: center;background-color: white;padding-right: 0.2em;padding-left: 0.2em;position: relative;}#sk-container-id-3 div.sk-item {position: relative;z-index: 1;}#sk-container-id-3 div.sk-parallel {display: flex;align-items: stretch;justify-content: center;background-color: white;position: relative;}#sk-container-id-3 div.sk-item::before, #sk-container-id-3 div.sk-parallel-item::before {content: \"\";position: absolute;border-left: 1px solid gray;box-sizing: border-box;top: 0;bottom: 0;left: 50%;z-index: -1;}#sk-container-id-3 div.sk-parallel-item {display: flex;flex-direction: column;z-index: 1;position: relative;background-color: white;}#sk-container-id-3 div.sk-parallel-item:first-child::after {align-self: flex-end;width: 50%;}#sk-container-id-3 div.sk-parallel-item:last-child::after {align-self: flex-start;width: 50%;}#sk-container-id-3 div.sk-parallel-item:only-child::after {width: 0;}#sk-container-id-3 div.sk-dashed-wrapped {border: 1px dashed gray;margin: 0 0.4em 0.5em 0.4em;box-sizing: border-box;padding-bottom: 0.4em;background-color: white;}#sk-container-id-3 div.sk-label label {font-family: monospace;font-weight: bold;display: inline-block;line-height: 1.2em;}#sk-container-id-3 div.sk-label-container {text-align: center;}#sk-container-id-3 div.sk-container {/* jupyter's `normalize.less` sets `[hidden] { display: none; }` but bootstrap.min.css set `[hidden] { display: none !important; }` so we also need the `!important` here to be able to override the default hidden behavior on the sphinx rendered scikit-learn.org. See: https://github.com/scikit-learn/scikit-learn/issues/21755 */display: inline-block !important;position: relative;}#sk-container-id-3 div.sk-text-repr-fallback {display: none;}</style><div id=\"sk-container-id-3\" class=\"sk-top-container\"><div class=\"sk-text-repr-fallback\"><pre>LinearRegression()</pre><b>In a Jupyter environment, please rerun this cell to show the HTML representation or trust the notebook. <br />On GitHub, the HTML representation is unable to render, please try loading this page with nbviewer.org.</b></div><div class=\"sk-container\" hidden><div class=\"sk-item\"><div class=\"sk-estimator sk-toggleable\"><input class=\"sk-toggleable__control sk-hidden--visually\" id=\"sk-estimator-id-3\" type=\"checkbox\" checked><label for=\"sk-estimator-id-3\" class=\"sk-toggleable__label sk-toggleable__label-arrow\">LinearRegression</label><div class=\"sk-toggleable__content\"><pre>LinearRegression()</pre></div></div></div></div></div>"
            ]
          },
          "metadata": {},
          "execution_count": 8
        }
      ]
    },
    {
      "cell_type": "code",
      "source": [
        "#Visulaizing the result for Linear Regression model\n",
        "mtp.scatter(x,y,color=\"blue\")\n",
        "mtp.plot(x,lin_regs.predict(x), color=\"red\")\n",
        "mtp.title(\"Bluff detection model(Linear Regression)\")\n",
        "mtp.xlabel(\"Position Levels\")\n",
        "mtp.ylabel(\"Salary\")\n",
        "mtp.show()"
      ],
      "metadata": {
        "colab": {
          "base_uri": "https://localhost:8080/",
          "height": 472
        },
        "id": "_xxSyyincO96",
        "outputId": "66e7247d-5a86-41e7-85ce-33d1dfa60863"
      },
      "execution_count": 6,
      "outputs": [
        {
          "output_type": "display_data",
          "data": {
            "text/plain": [
              "<Figure size 640x480 with 1 Axes>"
            ],
            "image/png": "[encoded data removed]"
          },
          "metadata": {}
        }
      ]
    },
    {
      "cell_type": "code",
      "source": [
        "#Visulaizing the result for Polynomial Regression\n",
        "mtp.scatter(x,y,color=\"blue\")\n",
        "mtp.plot(x, lin_reg_2.predict(poly_regs.fit_transform(x)), color=\"red\")\n",
        "mtp.title(\"Bluff detection model(Polynomial Regression)\")\n",
        "mtp.xlabel(\"Position Levels\")\n",
        "mtp.ylabel(\"Salary\")\n",
        "mtp.show()"
      ],
      "metadata": {
        "colab": {
          "base_uri": "https://localhost:8080/",
          "height": 472
        },
        "id": "UWsuEJGAcTNK",
        "outputId": "0965ca24-9723-49bb-baab-31398ff2bf91"
      },
      "execution_count": 9,
      "outputs": [
        {
          "output_type": "display_data",
          "data": {
            "text/plain": [
              "<Figure size 640x480 with 1 Axes>"
            ],
            "image/png": "[encoded data removed]"
          },
          "metadata": {}
        }
      ]
    },
    {
      "cell_type": "markdown",
      "source": [
        "# Create a Polynomial Regression model from Scratch using same dataset."
      ],
      "metadata": {
        "id": "yHb35PjHdCGn"
      }
    },
    {
      "cell_type": "markdown",
      "source": [
        "Linear Regression:"
      ],
      "metadata": {
        "id": "2T9r2ieTeWvX"
      }
    },
    {
      "cell_type": "markdown",
      "source": [
        "![image.png](data:image/png;base64,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)"
      ],
      "metadata": {
        "id": "CRykvEq7eUiX"
      }
    },
    {
      "cell_type": "markdown",
      "source": [
        "Polynomial regression:"
      ],
      "metadata": {
        "id": "oNRpIKExeczB"
      }
    },
    {
      "cell_type": "markdown",
      "source": [
        "![image.png](data:image/png;base64,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)"
      ],
      "metadata": {
        "id": "q1fNwnX-efxg"
      }
    },
    {
      "cell_type": "markdown",
      "source": [
        "![image.png](data:image/png;base64,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)"
      ],
      "metadata": {
        "id": "jIsVOMHgfHLh"
      }
    },
    {
      "cell_type": "markdown",
      "source": [
        "First, deducting the hypothesis from the original output variable. Taking a square to eliminate the negative values. Then dividing that value by 2 times the number of training examples (m)."
      ],
      "metadata": {
        "id": "DYWTvM-ffRNV"
      }
    },
    {
      "cell_type": "markdown",
      "source": [
        "Gradient Descent: If you take the partial differential of the cost function on each theta, we can derive these formulas:"
      ],
      "metadata": {
        "id": "zz5N6EQgfbUc"
      }
    },
    {
      "cell_type": "markdown",
      "source": [
        "![image.png](data:image/png;base64,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)"
      ],
      "metadata": {
        "id": "i_bQFZLufetz"
      }
    },
    {
      "cell_type": "code",
      "source": [
        "data_set"
      ],
      "metadata": {
        "colab": {
          "base_uri": "https://localhost:8080/",
          "height": 363
        },
        "id": "hz5kMkmUfQhW",
        "outputId": "37831e16-d1be-450b-86a2-f6086c611634"
      },
      "execution_count": 8,
      "outputs": [
        {
          "output_type": "execute_result",
          "data": {
            "text/plain": [
              "  Position  Level(X-var)  Salary(Y-var)\n",
              "0       BA             1          45000\n",
              "1       JC             2          50000\n",
              "2       SC             3          60000\n",
              "3        M             4          80000\n",
              "4       CM             5         110000\n",
              "5       RM             6         150000\n",
              "6        P             7         200000\n",
              "7       SP             8         300000\n",
              "8  C-level             9         500000\n",
              "9      CEO            10        1000000"
            ],
            "text/html": [
              "\n",
              "  <div id=\"df-b7807705-da6d-474d-88bd-bd52517b52aa\" class=\"colab-df-container\">\n",
              "    <div>\n",
              "<style scoped>\n",
              "    .dataframe tbody tr th:only-of-type {\n",
              "        vertical-align: middle;\n",
              "    }\n",
              "\n",
              "    .dataframe tbody tr th {\n",
              "        vertical-align: top;\n",
              "    }\n",
              "\n",
              "    .dataframe thead th {\n",
              "        text-align: right;\n",
              "    }\n",
              "</style>\n",
              "<table border=\"1\" class=\"dataframe\">\n",
              "  <thead>\n",
              "    <tr style=\"text-align: right;\">\n",
              "      <th></th>\n",
              "      <th>Position</th>\n",
              "      <th>Level(X-var)</th>\n",
              "      <th>Salary(Y-var)</th>\n",
              "    </tr>\n",
              "  </thead>\n",
              "  <tbody>\n",
              "    <tr>\n",
              "      <th>0</th>\n",
              "      <td>BA</td>\n",
              "      <td>1</td>\n",
              "      <td>45000</td>\n",
              "    </tr>\n",
              "    <tr>\n",
              "      <th>1</th>\n",
              "      <td>JC</td>\n",
              "      <td>2</td>\n",
              "      <td>50000</td>\n",
              "    </tr>\n",
              "    <tr>\n",
              "      <th>2</th>\n",
              "      <td>SC</td>\n",
              "      <td>3</td>\n",
              "      <td>60000</td>\n",
              "    </tr>\n",
              "    <tr>\n",
              "      <th>3</th>\n",
              "      <td>M</td>\n",
              "      <td>4</td>\n",
              "      <td>80000</td>\n",
              "    </tr>\n",
              "    <tr>\n",
              "      <th>4</th>\n",
              "      <td>CM</td>\n",
              "      <td>5</td>\n",
              "      <td>110000</td>\n",
              "    </tr>\n",
              "    <tr>\n",
              "      <th>5</th>\n",
              "      <td>RM</td>\n",
              "      <td>6</td>\n",
              "      <td>150000</td>\n",
              "    </tr>\n",
              "    <tr>\n",
              "      <th>6</th>\n",
              "      <td>P</td>\n",
              "      <td>7</td>\n",
              "      <td>200000</td>\n",
              "    </tr>\n",
              "    <tr>\n",
              "      <th>7</th>\n",
              "      <td>SP</td>\n",
              "      <td>8</td>\n",
              "      <td>300000</td>\n",
              "    </tr>\n",
              "    <tr>\n",
              "      <th>8</th>\n",
              "      <td>C-level</td>\n",
              "      <td>9</td>\n",
              "      <td>500000</td>\n",
              "    </tr>\n",
              "    <tr>\n",
              "      <th>9</th>\n",
              "      <td>CEO</td>\n",
              "      <td>10</td>\n",
              "      <td>1000000</td>\n",
              "    </tr>\n",
              "  </tbody>\n",
              "</table>\n",
              "</div>\n",
              "    <div class=\"colab-df-buttons\">\n",
              "\n",
              "  <div class=\"colab-df-container\">\n",
              "    <button class=\"colab-df-convert\" onclick=\"convertToInteractive('df-b7807705-da6d-474d-88bd-bd52517b52aa')\"\n",
              "            title=\"Convert this dataframe to an interactive table.\"\n",
              "            style=\"display:none;\">\n",
              "\n",
              "  <svg xmlns=\"http://www.w3.org/2000/svg\" height=\"24px\" viewBox=\"0 -960 960 960\">\n",
              "    <path d=\"M120-120v-720h720v720H120Zm60-500h600v-160H180v160Zm220 220h160v-160H400v160Zm0 220h160v-160H400v160ZM180-400h160v-160H180v160Zm440 0h160v-160H620v160ZM180-180h160v-160H180v160Zm440 0h160v-160H620v160Z\"/>\n",
              "  </svg>\n",
              "    </button>\n",
              "\n",
              "  <style>\n",
              "    .colab-df-container {\n",
              "      display:flex;\n",
              "      gap: 12px;\n",
              "    }\n",
              "\n",
              "    .colab-df-convert {\n",
              "      background-color: #E8F0FE;\n",
              "      border: none;\n",
              "      border-radius: 50%;\n",
              "      cursor: pointer;\n",
              "      display: none;\n",
              "      fill: #1967D2;\n",
              "      height: 32px;\n",
              "      padding: 0 0 0 0;\n",
              "      width: 32px;\n",
              "    }\n",
              "\n",
              "    .colab-df-convert:hover {\n",
              "      background-color: #E2EBFA;\n",
              "      box-shadow: 0px 1px 2px rgba(60, 64, 67, 0.3), 0px 1px 3px 1px rgba(60, 64, 67, 0.15);\n",
              "      fill: #174EA6;\n",
              "    }\n",
              "\n",
              "    .colab-df-buttons div {\n",
              "      margin-bottom: 4px;\n",
              "    }\n",
              "\n",
              "    [theme=dark] .colab-df-convert {\n",
              "      background-color: #3B4455;\n",
              "      fill: #D2E3FC;\n",
              "    }\n",
              "\n",
              "    [theme=dark] .colab-df-convert:hover {\n",
              "      background-color: #434B5C;\n",
              "      box-shadow: 0px 1px 3px 1px rgba(0, 0, 0, 0.15);\n",
              "      filter: drop-shadow(0px 1px 2px rgba(0, 0, 0, 0.3));\n",
              "      fill: #FFFFFF;\n",
              "    }\n",
              "  </style>\n",
              "\n",
              "    <script>\n",
              "      const buttonEl =\n",
              "        document.querySelector('#df-b7807705-da6d-474d-88bd-bd52517b52aa button.colab-df-convert');\n",
              "      buttonEl.style.display =\n",
              "        google.colab.kernel.accessAllowed ? 'block' : 'none';\n",
              "\n",
              "      async function convertToInteractive(key) {\n",
              "        const element = document.querySelector('#df-b7807705-da6d-474d-88bd-bd52517b52aa');\n",
              "        const dataTable =\n",
              "          await google.colab.kernel.invokeFunction('convertToInteractive',\n",
              "                                                    [key], {});\n",
              "        if (!dataTable) return;\n",
              "\n",
              "        const docLinkHtml = 'Like what you see? Visit the ' +\n",
              "          '<a target=\"_blank\" href=https://colab.research.google.com/notebooks/data_table.ipynb>data table notebook</a>'\n",
              "          + ' to learn more about interactive tables.';\n",
              "        element.innerHTML = '';\n",
              "        dataTable['output_type'] = 'display_data';\n",
              "        await google.colab.output.renderOutput(dataTable, element);\n",
              "        const docLink = document.createElement('div');\n",
              "        docLink.innerHTML = docLinkHtml;\n",
              "        element.appendChild(docLink);\n",
              "      }\n",
              "    </script>\n",
              "  </div>\n",
              "\n",
              "\n",
              "<div id=\"df-19b97478-f143-4647-b059-37b09a8e8535\">\n",
              "  <button class=\"colab-df-quickchart\" onclick=\"quickchart('df-19b97478-f143-4647-b059-37b09a8e8535')\"\n",
              "            title=\"Suggest charts\"\n",
              "            style=\"display:none;\">\n",
              "\n",
              "<svg xmlns=\"http://www.w3.org/2000/svg\" height=\"24px\"viewBox=\"0 0 24 24\"\n",
              "     width=\"24px\">\n",
              "    <g>\n",
              "        <path d=\"M19 3H5c-1.1 0-2 .9-2 2v14c0 1.1.9 2 2 2h14c1.1 0 2-.9 2-2V5c0-1.1-.9-2-2-2zM9 17H7v-7h2v7zm4 0h-2V7h2v10zm4 0h-2v-4h2v4z\"/>\n",
              "    </g>\n",
              "</svg>\n",
              "  </button>\n",
              "\n",
              "<style>\n",
              "  .colab-df-quickchart {\n",
              "      --bg-color: #E8F0FE;\n",
              "      --fill-color: #1967D2;\n",
              "      --hover-bg-color: #E2EBFA;\n",
              "      --hover-fill-color: #174EA6;\n",
              "      --disabled-fill-color: #AAA;\n",
              "      --disabled-bg-color: #DDD;\n",
              "  }\n",
              "\n",
              "  [theme=dark] .colab-df-quickchart {\n",
              "      --bg-color: #3B4455;\n",
              "      --fill-color: #D2E3FC;\n",
              "      --hover-bg-color: #434B5C;\n",
              "      --hover-fill-color: #FFFFFF;\n",
              "      --disabled-bg-color: #3B4455;\n",
              "      --disabled-fill-color: #666;\n",
              "  }\n",
              "\n",
              "  .colab-df-quickchart {\n",
              "    background-color: var(--bg-color);\n",
              "    border: none;\n",
              "    border-radius: 50%;\n",
              "    cursor: pointer;\n",
              "    display: none;\n",
              "    fill: var(--fill-color);\n",
              "    height: 32px;\n",
              "    padding: 0;\n",
              "    width: 32px;\n",
              "  }\n",
              "\n",
              "  .colab-df-quickchart:hover {\n",
              "    background-color: var(--hover-bg-color);\n",
              "    box-shadow: 0 1px 2px rgba(60, 64, 67, 0.3), 0 1px 3px 1px rgba(60, 64, 67, 0.15);\n",
              "    fill: var(--button-hover-fill-color);\n",
              "  }\n",
              "\n",
              "  .colab-df-quickchart-complete:disabled,\n",
              "  .colab-df-quickchart-complete:disabled:hover {\n",
              "    background-color: var(--disabled-bg-color);\n",
              "    fill: var(--disabled-fill-color);\n",
              "    box-shadow: none;\n",
              "  }\n",
              "\n",
              "  .colab-df-spinner {\n",
              "    border: 2px solid var(--fill-color);\n",
              "    border-color: transparent;\n",
              "    border-bottom-color: var(--fill-color);\n",
              "    animation:\n",
              "      spin 1s steps(1) infinite;\n",
              "  }\n",
              "\n",
              "  @keyframes spin {\n",
              "    0% {\n",
              "      border-color: transparent;\n",
              "      border-bottom-color: var(--fill-color);\n",
              "      border-left-color: var(--fill-color);\n",
              "    }\n",
              "    20% {\n",
              "      border-color: transparent;\n",
              "      border-left-color: var(--fill-color);\n",
              "      border-top-color: var(--fill-color);\n",
              "    }\n",
              "    30% {\n",
              "      border-color: transparent;\n",
              "      border-left-color: var(--fill-color);\n",
              "      border-top-color: var(--fill-color);\n",
              "      border-right-color: var(--fill-color);\n",
              "    }\n",
              "    40% {\n",
              "      border-color: transparent;\n",
              "      border-right-color: var(--fill-color);\n",
              "      border-top-color: var(--fill-color);\n",
              "    }\n",
              "    60% {\n",
              "      border-color: transparent;\n",
              "      border-right-color: var(--fill-color);\n",
              "    }\n",
              "    80% {\n",
              "      border-color: transparent;\n",
              "      border-right-color: var(--fill-color);\n",
              "      border-bottom-color: var(--fill-color);\n",
              "    }\n",
              "    90% {\n",
              "      border-color: transparent;\n",
              "      border-bottom-color: var(--fill-color);\n",
              "    }\n",
              "  }\n",
              "</style>\n",
              "\n",
              "  <script>\n",
              "    async function quickchart(key) {\n",
              "      const quickchartButtonEl =\n",
              "        document.querySelector('#' + key + ' button');\n",
              "      quickchartButtonEl.disabled = true;  // To prevent multiple clicks.\n",
              "      quickchartButtonEl.classList.add('colab-df-spinner');\n",
              "      try {\n",
              "        const charts = await google.colab.kernel.invokeFunction(\n",
              "            'suggestCharts', [key], {});\n",
              "      } catch (error) {\n",
              "        console.error('Error during call to suggestCharts:', error);\n",
              "      }\n",
              "      quickchartButtonEl.classList.remove('colab-df-spinner');\n",
              "      quickchartButtonEl.classList.add('colab-df-quickchart-complete');\n",
              "    }\n",
              "    (() => {\n",
              "      let quickchartButtonEl =\n",
              "        document.querySelector('#df-19b97478-f143-4647-b059-37b09a8e8535 button');\n",
              "      quickchartButtonEl.style.display =\n",
              "        google.colab.kernel.accessAllowed ? 'block' : 'none';\n",
              "    })();\n",
              "  </script>\n",
              "</div>\n",
              "    </div>\n",
              "  </div>\n"
            ]
          },
          "metadata": {},
          "execution_count": 8
        }
      ]
    },
    {
      "cell_type": "markdown",
      "source": [
        "2. Add the bias column for theta 0. This bias column will only contain 1. Because if you multiply 1 with a number it does not change."
      ],
      "metadata": {
        "id": "yJYdk-UwfzrC"
      }
    },
    {
      "cell_type": "code",
      "source": [
        "df = pd.concat([pd.Series(1, index=data_set.index, name='00'), data_set], axis=1)\n",
        "df.head()"
      ],
      "metadata": {
        "colab": {
          "base_uri": "https://localhost:8080/",
          "height": 206
        },
        "id": "YSobeuOteJWV",
        "outputId": "7b28b159-72e7-42d1-f105-b8abd83c3c6b"
      },
      "execution_count": 9,
      "outputs": [
        {
          "output_type": "execute_result",
          "data": {
            "text/plain": [
              "   00 Position  Level(X-var)  Salary(Y-var)\n",
              "0   1       BA             1          45000\n",
              "1   1       JC             2          50000\n",
              "2   1       SC             3          60000\n",
              "3   1        M             4          80000\n",
              "4   1       CM             5         110000"
            ],
            "text/html": [
              "\n",
              "  <div id=\"df-d3a0ed4b-a07f-467c-b9cf-fe4bee0cfbc9\" class=\"colab-df-container\">\n",
              "    <div>\n",
              "<style scoped>\n",
              "    .dataframe tbody tr th:only-of-type {\n",
              "        vertical-align: middle;\n",
              "    }\n",
              "\n",
              "    .dataframe tbody tr th {\n",
              "        vertical-align: top;\n",
              "    }\n",
              "\n",
              "    .dataframe thead th {\n",
              "        text-align: right;\n",
              "    }\n",
              "</style>\n",
              "<table border=\"1\" class=\"dataframe\">\n",
              "  <thead>\n",
              "    <tr style=\"text-align: right;\">\n",
              "      <th></th>\n",
              "      <th>00</th>\n",
              "      <th>Position</th>\n",
              "      <th>Level(X-var)</th>\n",
              "      <th>Salary(Y-var)</th>\n",
              "    </tr>\n",
              "  </thead>\n",
              "  <tbody>\n",
              "    <tr>\n",
              "      <th>0</th>\n",
              "      <td>1</td>\n",
              "      <td>BA</td>\n",
              "      <td>1</td>\n",
              "      <td>45000</td>\n",
              "    </tr>\n",
              "    <tr>\n",
              "      <th>1</th>\n",
              "      <td>1</td>\n",
              "      <td>JC</td>\n",
              "      <td>2</td>\n",
              "      <td>50000</td>\n",
              "    </tr>\n",
              "    <tr>\n",
              "      <th>2</th>\n",
              "      <td>1</td>\n",
              "      <td>SC</td>\n",
              "      <td>3</td>\n",
              "      <td>60000</td>\n",
              "    </tr>\n",
              "    <tr>\n",
              "      <th>3</th>\n",
              "      <td>1</td>\n",
              "      <td>M</td>\n",
              "      <td>4</td>\n",
              "      <td>80000</td>\n",
              "    </tr>\n",
              "    <tr>\n",
              "      <th>4</th>\n",
              "      <td>1</td>\n",
              "      <td>CM</td>\n",
              "      <td>5</td>\n",
              "      <td>110000</td>\n",
              "    </tr>\n",
              "  </tbody>\n",
              "</table>\n",
              "</div>\n",
              "    <div class=\"colab-df-buttons\">\n",
              "\n",
              "  <div class=\"colab-df-container\">\n",
              "    <button class=\"colab-df-convert\" onclick=\"convertToInteractive('df-d3a0ed4b-a07f-467c-b9cf-fe4bee0cfbc9')\"\n",
              "            title=\"Convert this dataframe to an interactive table.\"\n",
              "            style=\"display:none;\">\n",
              "\n",
              "  <svg xmlns=\"http://www.w3.org/2000/svg\" height=\"24px\" viewBox=\"0 -960 960 960\">\n",
              "    <path d=\"M120-120v-720h720v720H120Zm60-500h600v-160H180v160Zm220 220h160v-160H400v160Zm0 220h160v-160H400v160ZM180-400h160v-160H180v160Zm440 0h160v-160H620v160ZM180-180h160v-160H180v160Zm440 0h160v-160H620v160Z\"/>\n",
              "  </svg>\n",
              "    </button>\n",
              "\n",
              "  <style>\n",
              "    .colab-df-container {\n",
              "      display:flex;\n",
              "      gap: 12px;\n",
              "    }\n",
              "\n",
              "    .colab-df-convert {\n",
              "      background-color: #E8F0FE;\n",
              "      border: none;\n",
              "      border-radius: 50%;\n",
              "      cursor: pointer;\n",
              "      display: none;\n",
              "      fill: #1967D2;\n",
              "      height: 32px;\n",
              "      padding: 0 0 0 0;\n",
              "      width: 32px;\n",
              "    }\n",
              "\n",
              "    .colab-df-convert:hover {\n",
              "      background-color: #E2EBFA;\n",
              "      box-shadow: 0px 1px 2px rgba(60, 64, 67, 0.3), 0px 1px 3px 1px rgba(60, 64, 67, 0.15);\n",
              "      fill: #174EA6;\n",
              "    }\n",
              "\n",
              "    .colab-df-buttons div {\n",
              "      margin-bottom: 4px;\n",
              "    }\n",
              "\n",
              "    [theme=dark] .colab-df-convert {\n",
              "      background-color: #3B4455;\n",
              "      fill: #D2E3FC;\n",
              "    }\n",
              "\n",
              "    [theme=dark] .colab-df-convert:hover {\n",
              "      background-color: #434B5C;\n",
              "      box-shadow: 0px 1px 3px 1px rgba(0, 0, 0, 0.15);\n",
              "      filter: drop-shadow(0px 1px 2px rgba(0, 0, 0, 0.3));\n",
              "      fill: #FFFFFF;\n",
              "    }\n",
              "  </style>\n",
              "\n",
              "    <script>\n",
              "      const buttonEl =\n",
              "        document.querySelector('#df-d3a0ed4b-a07f-467c-b9cf-fe4bee0cfbc9 button.colab-df-convert');\n",
              "      buttonEl.style.display =\n",
              "        google.colab.kernel.accessAllowed ? 'block' : 'none';\n",
              "\n",
              "      async function convertToInteractive(key) {\n",
              "        const element = document.querySelector('#df-d3a0ed4b-a07f-467c-b9cf-fe4bee0cfbc9');\n",
              "        const dataTable =\n",
              "          await google.colab.kernel.invokeFunction('convertToInteractive',\n",
              "                                                    [key], {});\n",
              "        if (!dataTable) return;\n",
              "\n",
              "        const docLinkHtml = 'Like what you see? Visit the ' +\n",
              "          '<a target=\"_blank\" href=https://colab.research.google.com/notebooks/data_table.ipynb>data table notebook</a>'\n",
              "          + ' to learn more about interactive tables.';\n",
              "        element.innerHTML = '';\n",
              "        dataTable['output_type'] = 'display_data';\n",
              "        await google.colab.output.renderOutput(dataTable, element);\n",
              "        const docLink = document.createElement('div');\n",
              "        docLink.innerHTML = docLinkHtml;\n",
              "        element.appendChild(docLink);\n",
              "      }\n",
              "    </script>\n",
              "  </div>\n",
              "\n",
              "\n",
              "<div id=\"df-6b4ee01c-dc4b-44a2-a629-35b5baf950a1\">\n",
              "  <button class=\"colab-df-quickchart\" onclick=\"quickchart('df-6b4ee01c-dc4b-44a2-a629-35b5baf950a1')\"\n",
              "            title=\"Suggest charts\"\n",
              "            style=\"display:none;\">\n",
              "\n",
              "<svg xmlns=\"http://www.w3.org/2000/svg\" height=\"24px\"viewBox=\"0 0 24 24\"\n",
              "     width=\"24px\">\n",
              "    <g>\n",
              "        <path d=\"M19 3H5c-1.1 0-2 .9-2 2v14c0 1.1.9 2 2 2h14c1.1 0 2-.9 2-2V5c0-1.1-.9-2-2-2zM9 17H7v-7h2v7zm4 0h-2V7h2v10zm4 0h-2v-4h2v4z\"/>\n",
              "    </g>\n",
              "</svg>\n",
              "  </button>\n",
              "\n",
              "<style>\n",
              "  .colab-df-quickchart {\n",
              "      --bg-color: #E8F0FE;\n",
              "      --fill-color: #1967D2;\n",
              "      --hover-bg-color: #E2EBFA;\n",
              "      --hover-fill-color: #174EA6;\n",
              "      --disabled-fill-color: #AAA;\n",
              "      --disabled-bg-color: #DDD;\n",
              "  }\n",
              "\n",
              "  [theme=dark] .colab-df-quickchart {\n",
              "      --bg-color: #3B4455;\n",
              "      --fill-color: #D2E3FC;\n",
              "      --hover-bg-color: #434B5C;\n",
              "      --hover-fill-color: #FFFFFF;\n",
              "      --disabled-bg-color: #3B4455;\n",
              "      --disabled-fill-color: #666;\n",
              "  }\n",
              "\n",
              "  .colab-df-quickchart {\n",
              "    background-color: var(--bg-color);\n",
              "    border: none;\n",
              "    border-radius: 50%;\n",
              "    cursor: pointer;\n",
              "    display: none;\n",
              "    fill: var(--fill-color);\n",
              "    height: 32px;\n",
              "    padding: 0;\n",
              "    width: 32px;\n",
              "  }\n",
              "\n",
              "  .colab-df-quickchart:hover {\n",
              "    background-color: var(--hover-bg-color);\n",
              "    box-shadow: 0 1px 2px rgba(60, 64, 67, 0.3), 0 1px 3px 1px rgba(60, 64, 67, 0.15);\n",
              "    fill: var(--button-hover-fill-color);\n",
              "  }\n",
              "\n",
              "  .colab-df-quickchart-complete:disabled,\n",
              "  .colab-df-quickchart-complete:disabled:hover {\n",
              "    background-color: var(--disabled-bg-color);\n",
              "    fill: var(--disabled-fill-color);\n",
              "    box-shadow: none;\n",
              "  }\n",
              "\n",
              "  .colab-df-spinner {\n",
              "    border: 2px solid var(--fill-color);\n",
              "    border-color: transparent;\n",
              "    border-bottom-color: var(--fill-color);\n",
              "    animation:\n",
              "      spin 1s steps(1) infinite;\n",
              "  }\n",
              "\n",
              "  @keyframes spin {\n",
              "    0% {\n",
              "      border-color: transparent;\n",
              "      border-bottom-color: var(--fill-color);\n",
              "      border-left-color: var(--fill-color);\n",
              "    }\n",
              "    20% {\n",
              "      border-color: transparent;\n",
              "      border-left-color: var(--fill-color);\n",
              "      border-top-color: var(--fill-color);\n",
              "    }\n",
              "    30% {\n",
              "      border-color: transparent;\n",
              "      border-left-color: var(--fill-color);\n",
              "      border-top-color: var(--fill-color);\n",
              "      border-right-color: var(--fill-color);\n",
              "    }\n",
              "    40% {\n",
              "      border-color: transparent;\n",
              "      border-right-color: var(--fill-color);\n",
              "      border-top-color: var(--fill-color);\n",
              "    }\n",
              "    60% {\n",
              "      border-color: transparent;\n",
              "      border-right-color: var(--fill-color);\n",
              "    }\n",
              "    80% {\n",
              "      border-color: transparent;\n",
              "      border-right-color: var(--fill-color);\n",
              "      border-bottom-color: var(--fill-color);\n",
              "    }\n",
              "    90% {\n",
              "      border-color: transparent;\n",
              "      border-bottom-color: var(--fill-color);\n",
              "    }\n",
              "  }\n",
              "</style>\n",
              "\n",
              "  <script>\n",
              "    async function quickchart(key) {\n",
              "      const quickchartButtonEl =\n",
              "        document.querySelector('#' + key + ' button');\n",
              "      quickchartButtonEl.disabled = true;  // To prevent multiple clicks.\n",
              "      quickchartButtonEl.classList.add('colab-df-spinner');\n",
              "      try {\n",
              "        const charts = await google.colab.kernel.invokeFunction(\n",
              "            'suggestCharts', [key], {});\n",
              "      } catch (error) {\n",
              "        console.error('Error during call to suggestCharts:', error);\n",
              "      }\n",
              "      quickchartButtonEl.classList.remove('colab-df-spinner');\n",
              "      quickchartButtonEl.classList.add('colab-df-quickchart-complete');\n",
              "    }\n",
              "    (() => {\n",
              "      let quickchartButtonEl =\n",
              "        document.querySelector('#df-6b4ee01c-dc4b-44a2-a629-35b5baf950a1 button');\n",
              "      quickchartButtonEl.style.display =\n",
              "        google.colab.kernel.accessAllowed ? 'block' : 'none';\n",
              "    })();\n",
              "  </script>\n",
              "</div>\n",
              "    </div>\n",
              "  </div>\n"
            ]
          },
          "metadata": {},
          "execution_count": 9
        }
      ]
    },
    {
      "cell_type": "markdown",
      "source": [
        "3. Delete the ‘Position’ column. Because the ‘Position’ column contains strings and algorithms do not understand strings. We have the ‘Level’ column to represent the positions."
      ],
      "metadata": {
        "id": "XYXeo4kWgD7I"
      }
    },
    {
      "cell_type": "code",
      "source": [
        "df = df.drop(columns='Position')"
      ],
      "metadata": {
        "id": "m5TBhz0wgA0S"
      },
      "execution_count": 10,
      "outputs": []
    },
    {
      "cell_type": "markdown",
      "source": [
        "4. Define our input variable X and the output variable y. In this example, ‘Level’ is the input feature and ‘Salary’ is the output variable. We want to predict the salary for levels."
      ],
      "metadata": {
        "id": "nLbAh2EUgKxg"
      }
    },
    {
      "cell_type": "code",
      "source": [
        "y = df['Salary(Y-var)']\n",
        "X = df.drop(columns = 'Salary(Y-var)')\n",
        "X.head()"
      ],
      "metadata": {
        "colab": {
          "base_uri": "https://localhost:8080/",
          "height": 206
        },
        "id": "y55RXJ9OgKNZ",
        "outputId": "cb76b6c8-a7ee-464a-f177-927dd255667a"
      },
      "execution_count": 13,
      "outputs": [
        {
          "output_type": "execute_result",
          "data": {
            "text/plain": [
              "   00  Level(X-var)\n",
              "0   1             1\n",
              "1   1             2\n",
              "2   1             3\n",
              "3   1             4\n",
              "4   1             5"
            ],
            "text/html": [
              "\n",
              "  <div id=\"df-3b875b78-b4ff-4363-b58f-30c7a5ace9a7\" class=\"colab-df-container\">\n",
              "    <div>\n",
              "<style scoped>\n",
              "    .dataframe tbody tr th:only-of-type {\n",
              "        vertical-align: middle;\n",
              "    }\n",
              "\n",
              "    .dataframe tbody tr th {\n",
              "        vertical-align: top;\n",
              "    }\n",
              "\n",
              "    .dataframe thead th {\n",
              "        text-align: right;\n",
              "    }\n",
              "</style>\n",
              "<table border=\"1\" class=\"dataframe\">\n",
              "  <thead>\n",
              "    <tr style=\"text-align: right;\">\n",
              "      <th></th>\n",
              "      <th>00</th>\n",
              "      <th>Level(X-var)</th>\n",
              "    </tr>\n",
              "  </thead>\n",
              "  <tbody>\n",
              "    <tr>\n",
              "      <th>0</th>\n",
              "      <td>1</td>\n",
              "      <td>1</td>\n",
              "    </tr>\n",
              "    <tr>\n",
              "      <th>1</th>\n",
              "      <td>1</td>\n",
              "      <td>2</td>\n",
              "    </tr>\n",
              "    <tr>\n",
              "      <th>2</th>\n",
              "      <td>1</td>\n",
              "      <td>3</td>\n",
              "    </tr>\n",
              "    <tr>\n",
              "      <th>3</th>\n",
              "      <td>1</td>\n",
              "      <td>4</td>\n",
              "    </tr>\n",
              "    <tr>\n",
              "      <th>4</th>\n",
              "      <td>1</td>\n",
              "      <td>5</td>\n",
              "    </tr>\n",
              "  </tbody>\n",
              "</table>\n",
              "</div>\n",
              "    <div class=\"colab-df-buttons\">\n",
              "\n",
              "  <div class=\"colab-df-container\">\n",
              "    <button class=\"colab-df-convert\" onclick=\"convertToInteractive('df-3b875b78-b4ff-4363-b58f-30c7a5ace9a7')\"\n",
              "            title=\"Convert this dataframe to an interactive table.\"\n",
              "            style=\"display:none;\">\n",
              "\n",
              "  <svg xmlns=\"http://www.w3.org/2000/svg\" height=\"24px\" viewBox=\"0 -960 960 960\">\n",
              "    <path d=\"M120-120v-720h720v720H120Zm60-500h600v-160H180v160Zm220 220h160v-160H400v160Zm0 220h160v-160H400v160ZM180-400h160v-160H180v160Zm440 0h160v-160H620v160ZM180-180h160v-160H180v160Zm440 0h160v-160H620v160Z\"/>\n",
              "  </svg>\n",
              "    </button>\n",
              "\n",
              "  <style>\n",
              "    .colab-df-container {\n",
              "      display:flex;\n",
              "      gap: 12px;\n",
              "    }\n",
              "\n",
              "    .colab-df-convert {\n",
              "      background-color: #E8F0FE;\n",
              "      border: none;\n",
              "      border-radius: 50%;\n",
              "      cursor: pointer;\n",
              "      display: none;\n",
              "      fill: #1967D2;\n",
              "      height: 32px;\n",
              "      padding: 0 0 0 0;\n",
              "      width: 32px;\n",
              "    }\n",
              "\n",
              "    .colab-df-convert:hover {\n",
              "      background-color: #E2EBFA;\n",
              "      box-shadow: 0px 1px 2px rgba(60, 64, 67, 0.3), 0px 1px 3px 1px rgba(60, 64, 67, 0.15);\n",
              "      fill: #174EA6;\n",
              "    }\n",
              "\n",
              "    .colab-df-buttons div {\n",
              "      margin-bottom: 4px;\n",
              "    }\n",
              "\n",
              "    [theme=dark] .colab-df-convert {\n",
              "      background-color: #3B4455;\n",
              "      fill: #D2E3FC;\n",
              "    }\n",
              "\n",
              "    [theme=dark] .colab-df-convert:hover {\n",
              "      background-color: #434B5C;\n",
              "      box-shadow: 0px 1px 3px 1px rgba(0, 0, 0, 0.15);\n",
              "      filter: drop-shadow(0px 1px 2px rgba(0, 0, 0, 0.3));\n",
              "      fill: #FFFFFF;\n",
              "    }\n",
              "  </style>\n",
              "\n",
              "    <script>\n",
              "      const buttonEl =\n",
              "        document.querySelector('#df-3b875b78-b4ff-4363-b58f-30c7a5ace9a7 button.colab-df-convert');\n",
              "      buttonEl.style.display =\n",
              "        google.colab.kernel.accessAllowed ? 'block' : 'none';\n",
              "\n",
              "      async function convertToInteractive(key) {\n",
              "        const element = document.querySelector('#df-3b875b78-b4ff-4363-b58f-30c7a5ace9a7');\n",
              "        const dataTable =\n",
              "          await google.colab.kernel.invokeFunction('convertToInteractive',\n",
              "                                                    [key], {});\n",
              "        if (!dataTable) return;\n",
              "\n",
              "        const docLinkHtml = 'Like what you see? Visit the ' +\n",
              "          '<a target=\"_blank\" href=https://colab.research.google.com/notebooks/data_table.ipynb>data table notebook</a>'\n",
              "          + ' to learn more about interactive tables.';\n",
              "        element.innerHTML = '';\n",
              "        dataTable['output_type'] = 'display_data';\n",
              "        await google.colab.output.renderOutput(dataTable, element);\n",
              "        const docLink = document.createElement('div');\n",
              "        docLink.innerHTML = docLinkHtml;\n",
              "        element.appendChild(docLink);\n",
              "      }\n",
              "    </script>\n",
              "  </div>\n",
              "\n",
              "\n",
              "<div id=\"df-3b0f068d-94c3-4373-9425-b3d287b9cbeb\">\n",
              "  <button class=\"colab-df-quickchart\" onclick=\"quickchart('df-3b0f068d-94c3-4373-9425-b3d287b9cbeb')\"\n",
              "            title=\"Suggest charts\"\n",
              "            style=\"display:none;\">\n",
              "\n",
              "<svg xmlns=\"http://www.w3.org/2000/svg\" height=\"24px\"viewBox=\"0 0 24 24\"\n",
              "     width=\"24px\">\n",
              "    <g>\n",
              "        <path d=\"M19 3H5c-1.1 0-2 .9-2 2v14c0 1.1.9 2 2 2h14c1.1 0 2-.9 2-2V5c0-1.1-.9-2-2-2zM9 17H7v-7h2v7zm4 0h-2V7h2v10zm4 0h-2v-4h2v4z\"/>\n",
              "    </g>\n",
              "</svg>\n",
              "  </button>\n",
              "\n",
              "<style>\n",
              "  .colab-df-quickchart {\n",
              "      --bg-color: #E8F0FE;\n",
              "      --fill-color: #1967D2;\n",
              "      --hover-bg-color: #E2EBFA;\n",
              "      --hover-fill-color: #174EA6;\n",
              "      --disabled-fill-color: #AAA;\n",
              "      --disabled-bg-color: #DDD;\n",
              "  }\n",
              "\n",
              "  [theme=dark] .colab-df-quickchart {\n",
              "      --bg-color: #3B4455;\n",
              "      --fill-color: #D2E3FC;\n",
              "      --hover-bg-color: #434B5C;\n",
              "      --hover-fill-color: #FFFFFF;\n",
              "      --disabled-bg-color: #3B4455;\n",
              "      --disabled-fill-color: #666;\n",
              "  }\n",
              "\n",
              "  .colab-df-quickchart {\n",
              "    background-color: var(--bg-color);\n",
              "    border: none;\n",
              "    border-radius: 50%;\n",
              "    cursor: pointer;\n",
              "    display: none;\n",
              "    fill: var(--fill-color);\n",
              "    height: 32px;\n",
              "    padding: 0;\n",
              "    width: 32px;\n",
              "  }\n",
              "\n",
              "  .colab-df-quickchart:hover {\n",
              "    background-color: var(--hover-bg-color);\n",
              "    box-shadow: 0 1px 2px rgba(60, 64, 67, 0.3), 0 1px 3px 1px rgba(60, 64, 67, 0.15);\n",
              "    fill: var(--button-hover-fill-color);\n",
              "  }\n",
              "\n",
              "  .colab-df-quickchart-complete:disabled,\n",
              "  .colab-df-quickchart-complete:disabled:hover {\n",
              "    background-color: var(--disabled-bg-color);\n",
              "    fill: var(--disabled-fill-color);\n",
              "    box-shadow: none;\n",
              "  }\n",
              "\n",
              "  .colab-df-spinner {\n",
              "    border: 2px solid var(--fill-color);\n",
              "    border-color: transparent;\n",
              "    border-bottom-color: var(--fill-color);\n",
              "    animation:\n",
              "      spin 1s steps(1) infinite;\n",
              "  }\n",
              "\n",
              "  @keyframes spin {\n",
              "    0% {\n",
              "      border-color: transparent;\n",
              "      border-bottom-color: var(--fill-color);\n",
              "      border-left-color: var(--fill-color);\n",
              "    }\n",
              "    20% {\n",
              "      border-color: transparent;\n",
              "      border-left-color: var(--fill-color);\n",
              "      border-top-color: var(--fill-color);\n",
              "    }\n",
              "    30% {\n",
              "      border-color: transparent;\n",
              "      border-left-color: var(--fill-color);\n",
              "      border-top-color: var(--fill-color);\n",
              "      border-right-color: var(--fill-color);\n",
              "    }\n",
              "    40% {\n",
              "      border-color: transparent;\n",
              "      border-right-color: var(--fill-color);\n",
              "      border-top-color: var(--fill-color);\n",
              "    }\n",
              "    60% {\n",
              "      border-color: transparent;\n",
              "      border-right-color: var(--fill-color);\n",
              "    }\n",
              "    80% {\n",
              "      border-color: transparent;\n",
              "      border-right-color: var(--fill-color);\n",
              "      border-bottom-color: var(--fill-color);\n",
              "    }\n",
              "    90% {\n",
              "      border-color: transparent;\n",
              "      border-bottom-color: var(--fill-color);\n",
              "    }\n",
              "  }\n",
              "</style>\n",
              "\n",
              "  <script>\n",
              "    async function quickchart(key) {\n",
              "      const quickchartButtonEl =\n",
              "        document.querySelector('#' + key + ' button');\n",
              "      quickchartButtonEl.disabled = true;  // To prevent multiple clicks.\n",
              "      quickchartButtonEl.classList.add('colab-df-spinner');\n",
              "      try {\n",
              "        const charts = await google.colab.kernel.invokeFunction(\n",
              "            'suggestCharts', [key], {});\n",
              "      } catch (error) {\n",
              "        console.error('Error during call to suggestCharts:', error);\n",
              "      }\n",
              "      quickchartButtonEl.classList.remove('colab-df-spinner');\n",
              "      quickchartButtonEl.classList.add('colab-df-quickchart-complete');\n",
              "    }\n",
              "    (() => {\n",
              "      let quickchartButtonEl =\n",
              "        document.querySelector('#df-3b0f068d-94c3-4373-9425-b3d287b9cbeb button');\n",
              "      quickchartButtonEl.style.display =\n",
              "        google.colab.kernel.accessAllowed ? 'block' : 'none';\n",
              "    })();\n",
              "  </script>\n",
              "</div>\n",
              "    </div>\n",
              "  </div>\n"
            ]
          },
          "metadata": {},
          "execution_count": 13
        }
      ]
    },
    {
      "cell_type": "markdown",
      "source": [
        "5. Take the exponentials of the ‘Level’ column to make ‘Level1’ and ‘Level2’ columns."
      ],
      "metadata": {
        "id": "N1jCXkgrgdUl"
      }
    },
    {
      "cell_type": "code",
      "source": [
        "X['Level1'] = X['Level(X-var)']**2\n",
        "X['Level2'] = X['Level(X-var)']**3\n",
        "X.head()"
      ],
      "metadata": {
        "colab": {
          "base_uri": "https://localhost:8080/",
          "height": 206
        },
        "id": "szASeYe0ga4T",
        "outputId": "b8d20b52-56b6-4370-ba64-7e5b58fa27b1"
      },
      "execution_count": 14,
      "outputs": [
        {
          "output_type": "execute_result",
          "data": {
            "text/plain": [
              "   00  Level(X-var)  Level1  Level2\n",
              "0   1             1       1       1\n",
              "1   1             2       4       8\n",
              "2   1             3       9      27\n",
              "3   1             4      16      64\n",
              "4   1             5      25     125"
            ],
            "text/html": [
              "\n",
              "  <div id=\"df-56910d1d-a159-41a3-b3e0-abc2d7909dbb\" class=\"colab-df-container\">\n",
              "    <div>\n",
              "<style scoped>\n",
              "    .dataframe tbody tr th:only-of-type {\n",
              "        vertical-align: middle;\n",
              "    }\n",
              "\n",
              "    .dataframe tbody tr th {\n",
              "        vertical-align: top;\n",
              "    }\n",
              "\n",
              "    .dataframe thead th {\n",
              "        text-align: right;\n",
              "    }\n",
              "</style>\n",
              "<table border=\"1\" class=\"dataframe\">\n",
              "  <thead>\n",
              "    <tr style=\"text-align: right;\">\n",
              "      <th></th>\n",
              "      <th>00</th>\n",
              "      <th>Level(X-var)</th>\n",
              "      <th>Level1</th>\n",
              "      <th>Level2</th>\n",
              "    </tr>\n",
              "  </thead>\n",
              "  <tbody>\n",
              "    <tr>\n",
              "      <th>0</th>\n",
              "      <td>1</td>\n",
              "      <td>1</td>\n",
              "      <td>1</td>\n",
              "      <td>1</td>\n",
              "    </tr>\n",
              "    <tr>\n",
              "      <th>1</th>\n",
              "      <td>1</td>\n",
              "      <td>2</td>\n",
              "      <td>4</td>\n",
              "      <td>8</td>\n",
              "    </tr>\n",
              "    <tr>\n",
              "      <th>2</th>\n",
              "      <td>1</td>\n",
              "      <td>3</td>\n",
              "      <td>9</td>\n",
              "      <td>27</td>\n",
              "    </tr>\n",
              "    <tr>\n",
              "      <th>3</th>\n",
              "      <td>1</td>\n",
              "      <td>4</td>\n",
              "      <td>16</td>\n",
              "      <td>64</td>\n",
              "    </tr>\n",
              "    <tr>\n",
              "      <th>4</th>\n",
              "      <td>1</td>\n",
              "      <td>5</td>\n",
              "      <td>25</td>\n",
              "      <td>125</td>\n",
              "    </tr>\n",
              "  </tbody>\n",
              "</table>\n",
              "</div>\n",
              "    <div class=\"colab-df-buttons\">\n",
              "\n",
              "  <div class=\"colab-df-container\">\n",
              "    <button class=\"colab-df-convert\" onclick=\"convertToInteractive('df-56910d1d-a159-41a3-b3e0-abc2d7909dbb')\"\n",
              "            title=\"Convert this dataframe to an interactive table.\"\n",
              "            style=\"display:none;\">\n",
              "\n",
              "  <svg xmlns=\"http://www.w3.org/2000/svg\" height=\"24px\" viewBox=\"0 -960 960 960\">\n",
              "    <path d=\"M120-120v-720h720v720H120Zm60-500h600v-160H180v160Zm220 220h160v-160H400v160Zm0 220h160v-160H400v160ZM180-400h160v-160H180v160Zm440 0h160v-160H620v160ZM180-180h160v-160H180v160Zm440 0h160v-160H620v160Z\"/>\n",
              "  </svg>\n",
              "    </button>\n",
              "\n",
              "  <style>\n",
              "    .colab-df-container {\n",
              "      display:flex;\n",
              "      gap: 12px;\n",
              "    }\n",
              "\n",
              "    .colab-df-convert {\n",
              "      background-color: #E8F0FE;\n",
              "      border: none;\n",
              "      border-radius: 50%;\n",
              "      cursor: pointer;\n",
              "      display: none;\n",
              "      fill: #1967D2;\n",
              "      height: 32px;\n",
              "      padding: 0 0 0 0;\n",
              "      width: 32px;\n",
              "    }\n",
              "\n",
              "    .colab-df-convert:hover {\n",
              "      background-color: #E2EBFA;\n",
              "      box-shadow: 0px 1px 2px rgba(60, 64, 67, 0.3), 0px 1px 3px 1px rgba(60, 64, 67, 0.15);\n",
              "      fill: #174EA6;\n",
              "    }\n",
              "\n",
              "    .colab-df-buttons div {\n",
              "      margin-bottom: 4px;\n",
              "    }\n",
              "\n",
              "    [theme=dark] .colab-df-convert {\n",
              "      background-color: #3B4455;\n",
              "      fill: #D2E3FC;\n",
              "    }\n",
              "\n",
              "    [theme=dark] .colab-df-convert:hover {\n",
              "      background-color: #434B5C;\n",
              "      box-shadow: 0px 1px 3px 1px rgba(0, 0, 0, 0.15);\n",
              "      filter: drop-shadow(0px 1px 2px rgba(0, 0, 0, 0.3));\n",
              "      fill: #FFFFFF;\n",
              "    }\n",
              "  </style>\n",
              "\n",
              "    <script>\n",
              "      const buttonEl =\n",
              "        document.querySelector('#df-56910d1d-a159-41a3-b3e0-abc2d7909dbb button.colab-df-convert');\n",
              "      buttonEl.style.display =\n",
              "        google.colab.kernel.accessAllowed ? 'block' : 'none';\n",
              "\n",
              "      async function convertToInteractive(key) {\n",
              "        const element = document.querySelector('#df-56910d1d-a159-41a3-b3e0-abc2d7909dbb');\n",
              "        const dataTable =\n",
              "          await google.colab.kernel.invokeFunction('convertToInteractive',\n",
              "                                                    [key], {});\n",
              "        if (!dataTable) return;\n",
              "\n",
              "        const docLinkHtml = 'Like what you see? Visit the ' +\n",
              "          '<a target=\"_blank\" href=https://colab.research.google.com/notebooks/data_table.ipynb>data table notebook</a>'\n",
              "          + ' to learn more about interactive tables.';\n",
              "        element.innerHTML = '';\n",
              "        dataTable['output_type'] = 'display_data';\n",
              "        await google.colab.output.renderOutput(dataTable, element);\n",
              "        const docLink = document.createElement('div');\n",
              "        docLink.innerHTML = docLinkHtml;\n",
              "        element.appendChild(docLink);\n",
              "      }\n",
              "    </script>\n",
              "  </div>\n",
              "\n",
              "\n",
              "<div id=\"df-7c6d4b3e-eba9-4528-9ffb-14082fbac1c5\">\n",
              "  <button class=\"colab-df-quickchart\" onclick=\"quickchart('df-7c6d4b3e-eba9-4528-9ffb-14082fbac1c5')\"\n",
              "            title=\"Suggest charts\"\n",
              "            style=\"display:none;\">\n",
              "\n",
              "<svg xmlns=\"http://www.w3.org/2000/svg\" height=\"24px\"viewBox=\"0 0 24 24\"\n",
              "     width=\"24px\">\n",
              "    <g>\n",
              "        <path d=\"M19 3H5c-1.1 0-2 .9-2 2v14c0 1.1.9 2 2 2h14c1.1 0 2-.9 2-2V5c0-1.1-.9-2-2-2zM9 17H7v-7h2v7zm4 0h-2V7h2v10zm4 0h-2v-4h2v4z\"/>\n",
              "    </g>\n",
              "</svg>\n",
              "  </button>\n",
              "\n",
              "<style>\n",
              "  .colab-df-quickchart {\n",
              "      --bg-color: #E8F0FE;\n",
              "      --fill-color: #1967D2;\n",
              "      --hover-bg-color: #E2EBFA;\n",
              "      --hover-fill-color: #174EA6;\n",
              "      --disabled-fill-color: #AAA;\n",
              "      --disabled-bg-color: #DDD;\n",
              "  }\n",
              "\n",
              "  [theme=dark] .colab-df-quickchart {\n",
              "      --bg-color: #3B4455;\n",
              "      --fill-color: #D2E3FC;\n",
              "      --hover-bg-color: #434B5C;\n",
              "      --hover-fill-color: #FFFFFF;\n",
              "      --disabled-bg-color: #3B4455;\n",
              "      --disabled-fill-color: #666;\n",
              "  }\n",
              "\n",
              "  .colab-df-quickchart {\n",
              "    background-color: var(--bg-color);\n",
              "    border: none;\n",
              "    border-radius: 50%;\n",
              "    cursor: pointer;\n",
              "    display: none;\n",
              "    fill: var(--fill-color);\n",
              "    height: 32px;\n",
              "    padding: 0;\n",
              "    width: 32px;\n",
              "  }\n",
              "\n",
              "  .colab-df-quickchart:hover {\n",
              "    background-color: var(--hover-bg-color);\n",
              "    box-shadow: 0 1px 2px rgba(60, 64, 67, 0.3), 0 1px 3px 1px rgba(60, 64, 67, 0.15);\n",
              "    fill: var(--button-hover-fill-color);\n",
              "  }\n",
              "\n",
              "  .colab-df-quickchart-complete:disabled,\n",
              "  .colab-df-quickchart-complete:disabled:hover {\n",
              "    background-color: var(--disabled-bg-color);\n",
              "    fill: var(--disabled-fill-color);\n",
              "    box-shadow: none;\n",
              "  }\n",
              "\n",
              "  .colab-df-spinner {\n",
              "    border: 2px solid var(--fill-color);\n",
              "    border-color: transparent;\n",
              "    border-bottom-color: var(--fill-color);\n",
              "    animation:\n",
              "      spin 1s steps(1) infinite;\n",
              "  }\n",
              "\n",
              "  @keyframes spin {\n",
              "    0% {\n",
              "      border-color: transparent;\n",
              "      border-bottom-color: var(--fill-color);\n",
              "      border-left-color: var(--fill-color);\n",
              "    }\n",
              "    20% {\n",
              "      border-color: transparent;\n",
              "      border-left-color: var(--fill-color);\n",
              "      border-top-color: var(--fill-color);\n",
              "    }\n",
              "    30% {\n",
              "      border-color: transparent;\n",
              "      border-left-color: var(--fill-color);\n",
              "      border-top-color: var(--fill-color);\n",
              "      border-right-color: var(--fill-color);\n",
              "    }\n",
              "    40% {\n",
              "      border-color: transparent;\n",
              "      border-right-color: var(--fill-color);\n",
              "      border-top-color: var(--fill-color);\n",
              "    }\n",
              "    60% {\n",
              "      border-color: transparent;\n",
              "      border-right-color: var(--fill-color);\n",
              "    }\n",
              "    80% {\n",
              "      border-color: transparent;\n",
              "      border-right-color: var(--fill-color);\n",
              "      border-bottom-color: var(--fill-color);\n",
              "    }\n",
              "    90% {\n",
              "      border-color: transparent;\n",
              "      border-bottom-color: var(--fill-color);\n",
              "    }\n",
              "  }\n",
              "</style>\n",
              "\n",
              "  <script>\n",
              "    async function quickchart(key) {\n",
              "      const quickchartButtonEl =\n",
              "        document.querySelector('#' + key + ' button');\n",
              "      quickchartButtonEl.disabled = true;  // To prevent multiple clicks.\n",
              "      quickchartButtonEl.classList.add('colab-df-spinner');\n",
              "      try {\n",
              "        const charts = await google.colab.kernel.invokeFunction(\n",
              "            'suggestCharts', [key], {});\n",
              "      } catch (error) {\n",
              "        console.error('Error during call to suggestCharts:', error);\n",
              "      }\n",
              "      quickchartButtonEl.classList.remove('colab-df-spinner');\n",
              "      quickchartButtonEl.classList.add('colab-df-quickchart-complete');\n",
              "    }\n",
              "    (() => {\n",
              "      let quickchartButtonEl =\n",
              "        document.querySelector('#df-7c6d4b3e-eba9-4528-9ffb-14082fbac1c5 button');\n",
              "      quickchartButtonEl.style.display =\n",
              "        google.colab.kernel.accessAllowed ? 'block' : 'none';\n",
              "    })();\n",
              "  </script>\n",
              "</div>\n",
              "    </div>\n",
              "  </div>\n"
            ]
          },
          "metadata": {},
          "execution_count": 14
        }
      ]
    },
    {
      "cell_type": "markdown",
      "source": [
        "6. Now, normalize the data. Divide each column by the maximum value of that column. That way, we will get the values of each column ranging from 0 to 1. The algorithm should work even without normalization. But it helps to converge faster. Also, calculate the value of m which is the length of the dataset."
      ],
      "metadata": {
        "id": "a5QafwkKgqK_"
      }
    },
    {
      "cell_type": "code",
      "source": [
        "m = len(X)\n",
        "X = X/X.max()"
      ],
      "metadata": {
        "id": "-FEiCtJwgtN8"
      },
      "execution_count": 15,
      "outputs": []
    },
    {
      "cell_type": "markdown",
      "source": [
        "7. Define the hypothesis function. That will use the X and theta to predict the ‘y’."
      ],
      "metadata": {
        "id": "sw-EgSCAgvm7"
      }
    },
    {
      "cell_type": "code",
      "source": [
        "def hypothesis(X, theta):\n",
        "    y1 = theta*X\n",
        "    return nm.sum(y1, axis=1)"
      ],
      "metadata": {
        "id": "UlXAbMCxgyvh"
      },
      "execution_count": 21,
      "outputs": []
    },
    {
      "cell_type": "markdown",
      "source": [
        "8. Define the cost function, with our formula for cost-function above:"
      ],
      "metadata": {
        "id": "sM5gEAQeg21n"
      }
    },
    {
      "cell_type": "code",
      "source": [
        "def cost(X, y, theta):\n",
        "    y1 = hypothesis(X, theta)\n",
        "    return sum(nm.sqrt((y1-y)**2))/(2*m)"
      ],
      "metadata": {
        "id": "c4RIz7Hag41Y"
      },
      "execution_count": 22,
      "outputs": []
    },
    {
      "cell_type": "markdown",
      "source": [
        "9. Write the function for gradient descent. We will keep updating the theta values until we find our optimum cost. For each iteration, we will calculate the cost for future analysis."
      ],
      "metadata": {
        "id": "UB_DKacDg_W2"
      }
    },
    {
      "cell_type": "code",
      "source": [
        "def gradientDescent(X, y, theta, alpha, epoch):\n",
        "    J=[]\n",
        "    k=0\n",
        "    while k < epoch:\n",
        "        y1 = hypothesis(X, theta)\n",
        "        for c in range(0, len(X.columns)):\n",
        "            theta[c] = theta[c] - alpha*sum((y1-y)* X.iloc[:, c])/m\n",
        "        j = cost(X, y, theta)\n",
        "        J.append(j)\n",
        "        k += 1\n",
        "    return J, theta"
      ],
      "metadata": {
        "id": "9pvpKvKThBqY"
      },
      "execution_count": 23,
      "outputs": []
    },
    {
      "cell_type": "markdown",
      "source": [
        "10. All the functions are defined. Now, initialize the theta. Initializing an array of zero. You can take any other random values. Choosing alpha as 0.05 and iterate the theta values for 700 epochs."
      ],
      "metadata": {
        "id": "_P3kWxnXhE1O"
      }
    },
    {
      "cell_type": "code",
      "source": [
        "theta = nm.array([0.0]*len(X.columns))\n",
        "J, theta = gradientDescent(X, y, theta, 0.05, 700)"
      ],
      "metadata": {
        "id": "NSFrG04OhG2_"
      },
      "execution_count": 24,
      "outputs": []
    },
    {
      "cell_type": "markdown",
      "source": [
        "11. We got our final theta values and the cost in each iteration as well. Let’s find the salary prediction using our final theta."
      ],
      "metadata": {
        "id": "QMqLsMzZhI71"
      }
    },
    {
      "cell_type": "code",
      "source": [
        "y_hat = hypothesis(X, theta)"
      ],
      "metadata": {
        "id": "vejwNMIBhM2j"
      },
      "execution_count": 25,
      "outputs": []
    },
    {
      "cell_type": "markdown",
      "source": [
        "12. Now plot the original salary and our predicted salary against the levels."
      ],
      "metadata": {
        "id": "k1xma9XmhWkr"
      }
    },
    {
      "cell_type": "code",
      "source": [
        "mtp.figure()\n",
        "mtp.scatter(x=X['Level(X-var)'],y= y)\n",
        "mtp.scatter(x=X['Level(X-var)'], y=y_hat)\n",
        "mtp.show()"
      ],
      "metadata": {
        "colab": {
          "base_uri": "https://localhost:8080/",
          "height": 445
        },
        "id": "e99r81KthYok",
        "outputId": "d3d9a5d6-bf12-490a-8474-bd011d96ebc9"
      },
      "execution_count": 27,
      "outputs": [
        {
          "output_type": "display_data",
          "data": {
            "text/plain": [
              "<Figure size 640x480 with 1 Axes>"
            ],
            "image/png": "[encoded data removed]"
          },
          "metadata": {}
        }
      ]
    },
    {
      "cell_type": "markdown",
      "source": [
        "Our prediction does not exactly follow the trend of salary but it is close. Linear regression can only return a straight line. But in polynomial regression, we can get a curved line like that. If the line would not be a nice curve, polynomial regression can learn some more complex trends as well."
      ],
      "metadata": {
        "id": "ILeJlp8uhr4G"
      }
    },
    {
      "cell_type": "markdown",
      "source": [
        "13. Let’s plot the cost we calculated in each epoch in our gradient descent function."
      ],
      "metadata": {
        "id": "OEWt0NI6hwvY"
      }
    },
    {
      "cell_type": "code",
      "source": [
        "mtp.figure()\n",
        "mtp.scatter(x=list(range(0, 700)), y=J)\n",
        "mtp.show()"
      ],
      "metadata": {
        "colab": {
          "base_uri": "https://localhost:8080/",
          "height": 430
        },
        "id": "mCGHCuyfhukx",
        "outputId": "d6e56495-ae8d-4f8b-94c5-11da316bba68"
      },
      "execution_count": 28,
      "outputs": [
        {
          "output_type": "display_data",
          "data": {
            "text/plain": [
              "<Figure size 640x480 with 1 Axes>"
            ],
            "image/png": "[encoded data removed]"
          },
          "metadata": {}
        }
      ]
    },
    {
      "cell_type": "markdown",
      "source": [
        "The cost fell drastically in the beginning and then the fall was slow. In a good machine learning algorithm, cost should keep going down until the convergence. \\\\\n",
        "Try it with a different number of epochs and different learning rates (alpha)."
      ],
      "metadata": {
        "id": "fIhl6qz0h3za"
      }
    }
  ]
}